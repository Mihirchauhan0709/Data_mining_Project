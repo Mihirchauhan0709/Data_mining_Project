{
 "cells": [
  {
   "cell_type": "code",
   "execution_count": 1,
   "metadata": {},
   "outputs": [],
   "source": [
    "import pandas as pd\n",
    "import os"
   ]
  },
  {
   "cell_type": "code",
   "execution_count": 2,
   "metadata": {},
   "outputs": [],
   "source": [
    "\n",
    "# Define the seasons you want to merge\n",
    "seasons = ['2020-2021', '2021-2022', '2022-2023', '2023-2024']\n",
    "\n",
    "# Dictionary to hold dataframes for each season\n",
    "merged_data = {season: [] for season in seasons}\n",
    "\n",
    "# Get the current working directory where the CSV files are located\n",
    "directory = os.getcwd()"
   ]
  },
  {
   "cell_type": "code",
   "execution_count": 3,
   "metadata": {},
   "outputs": [],
   "source": [
    "# Loop through each season and read the corresponding CSV files\n",
    "for season in seasons:\n",
    "    for filename in os.listdir(directory):\n",
    "        if filename.endswith(f'{season}.csv'):  # Check if file matches the season\n",
    "            file_path = os.path.join(directory, filename)\n",
    "            df = pd.read_csv(file_path)\n",
    "            merged_data[season].append(df)  # Append the dataframe to the list"
   ]
  },
  {
   "cell_type": "code",
   "execution_count": 4,
   "metadata": {},
   "outputs": [
    {
     "name": "stdout",
     "output_type": "stream",
     "text": [
      "Merged data for 2020-2021 saved as merged_2020-2021.csv\n",
      "Merged data for 2021-2022 saved as merged_2021-2022.csv\n",
      "Merged data for 2022-2023 saved as merged_2022-2023.csv\n",
      "Merged data for 2023-2024 saved as merged_2023-2024.csv\n"
     ]
    }
   ],
   "source": [
    "# Merge dataframes for each season and save to a new CSV file\n",
    "for season, dfs in merged_data.items():\n",
    "    if dfs:  # Check if there are dataframes to merge\n",
    "        merged_df = pd.concat(dfs, ignore_index=True)  # Merge dataframes\n",
    "        merged_df.to_csv(f'merged_{season}.csv', index=False)  # Save merged CSV\n",
    "        print(f'Merged data for {season} saved as merged_{season}.csv')"
   ]
  },
  {
   "cell_type": "code",
   "execution_count": 5,
   "metadata": {},
   "outputs": [
    {
     "name": "stdout",
     "output_type": "stream",
     "text": [
      "Merged data for 2020-2021 saved as merged_2020-2021.csv\n",
      "Merged data for 2021-2022 saved as merged_2021-2022.csv\n",
      "Merged data for 2022-2023 saved as merged_2022-2023.csv\n",
      "Merged data for 2023-2024 saved as merged_2023-2024.csv\n"
     ]
    }
   ],
   "source": [
    "import pandas as pd\n",
    "import os\n",
    "\n",
    "# Define the seasons you want to merge\n",
    "seasons = ['2020-2021', '2021-2022', '2022-2023', '2023-2024']\n",
    "\n",
    "# Dictionary to hold dataframes for each season\n",
    "merged_data = {season: [] for season in seasons}\n",
    "\n",
    "# Get the current working directory where the CSV files are located\n",
    "directory = os.getcwd()\n",
    "\n",
    "# Loop through each season and read the corresponding CSV files\n",
    "for season in seasons:\n",
    "    for filename in os.listdir(directory):\n",
    "        if filename.endswith(f'{season}.csv'):  # Check if file matches the season\n",
    "            file_path = os.path.join(directory, filename)\n",
    "            team_name = filename.split(season)[0]  # Extract team name from the filename\n",
    "            \n",
    "            df = pd.read_csv(file_path)\n",
    "            df['Team'] = team_name  # Add a new column for the team name\n",
    "            \n",
    "            merged_data[season].append(df)  # Append the dataframe to the list\n",
    "\n",
    "# Merge dataframes for each season and save to a new CSV file\n",
    "for season, dfs in merged_data.items():\n",
    "    if dfs:  # Check if there are dataframes to merge\n",
    "        merged_df = pd.concat(dfs, ignore_index=True)  # Merge dataframes\n",
    "        merged_df.to_csv(f'!merged_{season}.csv', index=False)  # Save merged CSV\n",
    "        print(f'Merged data for {season} saved as merged_{season}.csv')\n"
   ]
  },
  {
   "cell_type": "code",
   "execution_count": 7,
   "metadata": {},
   "outputs": [
    {
     "name": "stdout",
     "output_type": "stream",
     "text": [
      "Filename: !merged_2020-2021.csv | Extracted Team Name: !merged\n",
      "Filename: AC2020-2021.csv | Extracted Team Name: AC\n",
      "Filename: Alaves2020-2021.csv | Extracted Team Name: Alaves\n",
      "Filename: Almeria2020-2021.csv | Extracted Team Name: Almeria\n",
      "Filename: AM2020-2021.csv | Extracted Team Name: AM\n",
      "Filename: Cadiz2020-2021.csv | Extracted Team Name: Cadiz\n",
      "Filename: CV2020-2021.csv | Extracted Team Name: CV\n",
      "Filename: Eibar2020-2021.csv | Extracted Team Name: Eibar\n",
      "Filename: Elche2020-2021.csv | Extracted Team Name: Elche\n",
      "Filename: Getafe2020-2021.csv | Extracted Team Name: Getafe\n",
      "Filename: Granada2020-2021.csv | Extracted Team Name: Granada\n",
      "Filename: Huesca2020-2021.csv | Extracted Team Name: Huesca\n",
      "Filename: Levante2020-2021.csv | Extracted Team Name: Levante\n",
      "Filename: merged_2020-2021.csv | Extracted Team Name: merged\n",
      "Filename: Osasuna2020-2021.csv | Extracted Team Name: Osasuna\n",
      "Filename: RB2020-2021.csv | Extracted Team Name: RB\n",
      "Filename: RealMadrid2020-2021.csv | Extracted Team Name: RealMadrid\n",
      "Filename: RealSociadad2020-2021.csv | Extracted Team Name: RealSociadad\n",
      "Filename: Valencia2020-2021.csv | Extracted Team Name: Valencia\n",
      "Filename: Valladolid2020-2021.csv | Extracted Team Name: Valladolid\n",
      "Filename: Villarreal2020-2021.csv | Extracted Team Name: Villarreal\n",
      "Filename: !merged_2021-2022.csv | Extracted Team Name: !merged\n",
      "Filename: AC2021-2022.csv | Extracted Team Name: AC\n",
      "Filename: Alaves2021-2022.csv | Extracted Team Name: Alaves\n",
      "Filename: Almeria2021-2022.csv | Extracted Team Name: Almeria\n",
      "Filename: AM2021-2022.csv | Extracted Team Name: AM\n",
      "Filename: Cadiz2021-2022.csv | Extracted Team Name: Cadiz\n",
      "Filename: CV2021-2022.csv | Extracted Team Name: CV\n",
      "Filename: Elche2021-2022.csv | Extracted Team Name: Elche\n",
      "Filename: Espanyol2021-2022.csv | Extracted Team Name: Espanyol\n",
      "Filename: Getafe2021-2022.csv | Extracted Team Name: Getafe\n",
      "Filename: Granada2021-2022.csv | Extracted Team Name: Granada\n",
      "Filename: Levante2021-2022.csv | Extracted Team Name: Levante\n",
      "Filename: Mallorca2021-2022.csv | Extracted Team Name: Mallorca\n",
      "Filename: merged_2021-2022.csv | Extracted Team Name: merged\n",
      "Filename: Osasuna2021-2022.csv | Extracted Team Name: Osasuna\n",
      "Filename: RB2021-2022.csv | Extracted Team Name: RB\n",
      "Filename: RealMadrid2021-2022.csv | Extracted Team Name: RealMadrid\n",
      "Filename: RealSociadad2021-2022.csv | Extracted Team Name: RealSociadad\n",
      "Filename: RV2021-2022.csv | Extracted Team Name: RV\n",
      "Filename: Valencia2021-2022.csv | Extracted Team Name: Valencia\n",
      "Filename: Villarreal2021-2022.csv | Extracted Team Name: Villarreal\n",
      "Filename: !merged_2022-2023.csv | Extracted Team Name: !merged\n",
      "Filename: Ac2022-2023.csv | Extracted Team Name: Ac\n",
      "Filename: Almeria2022-2023.csv | Extracted Team Name: Almeria\n",
      "Filename: AM2022-2023.csv | Extracted Team Name: AM\n",
      "Filename: Cadiz2022-2023.csv | Extracted Team Name: Cadiz\n",
      "Filename: CV2022-2023.csv | Extracted Team Name: CV\n",
      "Filename: Elche2022-2023.csv | Extracted Team Name: Elche\n",
      "Filename: Espanyol2022-2023.csv | Extracted Team Name: Espanyol\n",
      "Filename: Getafe2022-2023.csv | Extracted Team Name: Getafe\n",
      "Filename: Girona2022-2023.csv | Extracted Team Name: Girona\n",
      "Filename: Mallorca2022-2023.csv | Extracted Team Name: Mallorca\n",
      "Filename: merged_2022-2023.csv | Extracted Team Name: merged\n",
      "Filename: Osasuna2022-2023.csv | Extracted Team Name: Osasuna\n",
      "Filename: RB2022-2023.csv | Extracted Team Name: RB\n",
      "Filename: RealMadrid2022-2023.csv | Extracted Team Name: RealMadrid\n",
      "Filename: RealSociadad2022-2023.csv | Extracted Team Name: RealSociadad\n",
      "Filename: RV2022-2023.csv | Extracted Team Name: RV\n",
      "Filename: Valencia2022-2023.csv | Extracted Team Name: Valencia\n",
      "Filename: Valladolid2022-2023.csv | Extracted Team Name: Valladolid\n",
      "Filename: Villarreal2022-2023.csv | Extracted Team Name: Villarreal\n",
      "Filename: !merged_2023-2024.csv | Extracted Team Name: !merged\n",
      "Filename: AC2023-2024.csv | Extracted Team Name: AC\n",
      "Filename: Alaves2023-2024.csv | Extracted Team Name: Alaves\n",
      "Filename: Almeria2023-2024.csv | Extracted Team Name: Almeria\n",
      "Filename: AM2023-2024.csv | Extracted Team Name: AM\n",
      "Filename: Cadiz2023-2024.csv | Extracted Team Name: Cadiz\n",
      "Filename: CV2023-2024.csv | Extracted Team Name: CV\n",
      "Filename: Getafe2023-2024.csv | Extracted Team Name: Getafe\n",
      "Filename: Girona2023-2024.csv | Extracted Team Name: Girona\n",
      "Filename: Granada2023-2024.csv | Extracted Team Name: Granada\n",
      "Filename: LasPalmas2023-2024.csv | Extracted Team Name: LasPalmas\n",
      "Filename: Mallorca2023-2024.csv | Extracted Team Name: Mallorca\n",
      "Filename: merged_2023-2024.csv | Extracted Team Name: merged\n",
      "Filename: Osasuna2023-2024.csv | Extracted Team Name: Osasuna\n",
      "Filename: RB2023-2024.csv | Extracted Team Name: RB\n",
      "Filename: RealMadrid2023-2024.csv | Extracted Team Name: RealMadrid\n",
      "Filename: RealSociadad2023-2024.csv | Extracted Team Name: RealSociadad\n",
      "Filename: RV2023-2024.csv | Extracted Team Name: RV\n",
      "Filename: Valencia2023-2024.csv | Extracted Team Name: Valencia\n",
      "Filename: Villarreal2023-2024.csv | Extracted Team Name: Villarreal\n",
      "Merged data for 2020-2021 saved as @merged_2020-2021.csv\n",
      "Merged data for 2021-2022 saved as @merged_2021-2022.csv\n",
      "Merged data for 2022-2023 saved as @merged_2022-2023.csv\n",
      "Merged data for 2023-2024 saved as @merged_2023-2024.csv\n"
     ]
    }
   ],
   "source": [
    "import pandas as pd\n",
    "import os\n",
    "\n",
    "# Define the seasons you want to merge\n",
    "seasons = ['2020-2021', '2021-2022', '2022-2023', '2023-2024']\n",
    "\n",
    "# Dictionary to hold dataframes for each season\n",
    "merged_data = {season: [] for season in seasons}\n",
    "\n",
    "# Get the current working directory where the CSV files are located\n",
    "directory = os.getcwd()\n",
    "\n",
    "# Loop through each season and read the corresponding CSV files\n",
    "for season in seasons:\n",
    "    for filename in os.listdir(directory):\n",
    "        if filename.endswith(f'{season}.csv'):  # Check if file matches the season\n",
    "            file_path = os.path.join(directory, filename)\n",
    "            team_name = filename.split(season)[0].replace('_', '')  # Extract team name and clean it\n",
    "            \n",
    "            # Debugging print to check team_name\n",
    "            print(f\"Filename: {filename} | Extracted Team Name: {team_name}\")\n",
    "\n",
    "            df = pd.read_csv(file_path)\n",
    "            df['Team'] = team_name  # Add a new column for the team name\n",
    "            \n",
    "            # Reorder columns to place 'Team' as the 4th column\n",
    "            cols = list(df.columns)\n",
    "            cols.insert(3, cols.pop(cols.index('Team')))  # Move 'Team' to 4th position\n",
    "            df = df[cols]  # Reorder dataframe\n",
    "            \n",
    "            merged_data[season].append(df)  # Append the dataframe to the list\n",
    "\n",
    "# Merge dataframes for each season and save to a new CSV file\n",
    "for season, dfs in merged_data.items():\n",
    "    if dfs:  # Check if there are dataframes to merge\n",
    "        merged_df = pd.concat(dfs, ignore_index=True)  # Merge dataframes\n",
    "        merged_df.to_csv(f'@merged_{season}.csv', index=False)  # Save merged CSV\n",
    "        print(f'Merged data for {season} saved as @merged_{season}.csv')\n"
   ]
  },
  {
   "cell_type": "code",
   "execution_count": null,
   "metadata": {},
   "outputs": [],
   "source": []
  }
 ],
 "metadata": {
  "kernelspec": {
   "display_name": "base",
   "language": "python",
   "name": "python3"
  },
  "language_info": {
   "codemirror_mode": {
    "name": "ipython",
    "version": 3
   },
   "file_extension": ".py",
   "mimetype": "text/x-python",
   "name": "python",
   "nbconvert_exporter": "python",
   "pygments_lexer": "ipython3",
   "version": "3.11.5"
  }
 },
 "nbformat": 4,
 "nbformat_minor": 2
}
