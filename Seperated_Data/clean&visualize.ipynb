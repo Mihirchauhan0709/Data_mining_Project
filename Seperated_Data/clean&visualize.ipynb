{
 "cells": [
  {
   "cell_type": "markdown",
   "metadata": {},
   "source": [
    "# Cleaning"
   ]
  },
  {
   "cell_type": "markdown",
   "metadata": {},
   "source": [
    "## Merging the data into one single file which has 4 seasons data(2020-2024) "
   ]
  },
  {
   "cell_type": "code",
   "execution_count": 10,
   "metadata": {},
   "outputs": [
    {
     "name": "stdout",
     "output_type": "stream",
     "text": [
      "All seasons data merged into 'all_seasons_merged.csv'.\n"
     ]
    }
   ],
   "source": [
    "import pandas as pd\n",
    "\n",
    "import os\n",
    "\n",
    "# Define the seasons you want to merge\n",
    "seasons = ['2020-2021', '2021-2022', '2022-2023', '2023-2024']\n",
    "\n",
    "# Get the current working directory where the CSV files are located\n",
    "directory = os.getcwd()\n",
    "\n",
    "# List to store all dataframes\n",
    "all_data = []\n",
    "\n",
    "# Loop through each season and read the corresponding CSV files\n",
    "for season in seasons:\n",
    "    for filename in os.listdir(directory):\n",
    "        if filename.endswith(f'{season}.csv'):  # Check if file matches the season\n",
    "            file_path = os.path.join(directory, filename)\n",
    "            team_name = filename.split(season)[0].replace('_', '')  # Extract team name and clean it\n",
    "            \n",
    "            # Read the CSV file\n",
    "            df = pd.read_csv(file_path)\n",
    "            \n",
    "            # Add the 'Team' and 'Season' columns\n",
    "            df['Team'] = team_name  # Add team name\n",
    "            df['Season'] = season  # Add season information\n",
    "            \n",
    "            # Reorder columns if you want to make 'Team' the 4th column (optional)\n",
    "            cols = list(df.columns)\n",
    "            cols.insert(3, cols.pop(cols.index('Team')))  # Move 'Team' to the 4th position\n",
    "            df = df[cols]  # Reorder the dataframe\n",
    "            \n",
    "            # Append the dataframe to the list\n",
    "            all_data.append(df)\n",
    "\n",
    "# Concatenate all dataframes into a single dataframe\n",
    "final_df = pd.concat(all_data, ignore_index=True)\n",
    "\n",
    "# Save the final merged dataframe into a single CSV file\n",
    "final_df.to_csv('all_seasons_merged.csv', index=False)\n",
    "\n",
    "print(\"All seasons data merged into 'all_seasons_merged.csv'.\")\n"
   ]
  },
  {
   "cell_type": "markdown",
   "metadata": {},
   "source": [
    "## Changing names of column for better understanding"
   ]
  },
  {
   "cell_type": "code",
   "execution_count": 11,
   "metadata": {},
   "outputs": [
    {
     "name": "stdout",
     "output_type": "stream",
     "text": [
      "Columns renamed and saved to 'all_seasons_renamed.csv'.\n"
     ]
    }
   ],
   "source": [
    "import pandas as pd\n",
    "\n",
    "# Load your merged CSV file\n",
    "file_path = 'all_seasons_merged.csv'  # Update this with your actual file path\n",
    "df = pd.read_csv(file_path)\n",
    "\n",
    "# Create a dictionary with old and new column names\n",
    "column_rename_dict = {\n",
    "    'Unnamed: 0': 'Index',\n",
    "    'Unnamed: 0_level_0_Player': 'Player',\n",
    "    'Unnamed: 1_level_0_Nation': 'Nation',\n",
    "    'Unnamed: 2_level_0_Pos': 'Position',\n",
    "    'Unnamed: 3_level_0_Age': 'Age',\n",
    "    'Playing Time_MP': 'Matches Played (MP)',\n",
    "    'Playing Time_Starts': 'Starts',\n",
    "    'Playing Time_Min': 'Minutes Played (Min)',\n",
    "    'Playing Time_90s': '90s Played (90s)',\n",
    "    'Performance_Gls': 'Goals (Gls)',\n",
    "    'Performance_Ast': 'Assists (Ast)',\n",
    "    'Performance_G+A': 'Goals + Assists (G+A)',\n",
    "    'Performance_G-PK': 'Non-Penalty Goals (G-PK)',\n",
    "    'Performance_PK': 'Penalty Kicks Made (PK)',\n",
    "    'Performance_PKatt': 'Penalty Kicks Attempted (PKatt)',\n",
    "    'Performance_CrdY': 'Yellow Cards (CrdY)',\n",
    "    'Performance_CrdR': 'Red Cards (CrdR)',\n",
    "    'Expected_xG': 'Expected Goals (xG)',\n",
    "    'Expected_npxG': 'Non-Penalty xG (npxG)',\n",
    "    'Expected_xAG': 'Expected Assisted Goals (xAG)',\n",
    "    'Expected_npxG+xAG': 'Non-Penalty xG + Assisted Goals (npxG+xAG)',\n",
    "    'Progression_PrgC': 'Progressive Carries (PrgC)',\n",
    "    'Progression_PrgP': 'Progressive Passes (PrgP)',\n",
    "    'Progression_PrgR': 'Progressive Passes Received (PrgR)',\n",
    "    'Per 90 Minutes_Gls': 'Goals per 90 Minutes (Gls/90)',\n",
    "    'Per 90 Minutes_Ast': 'Assists per 90 Minutes (Ast/90)',\n",
    "    'Per 90 Minutes_G+A': 'Goals + Assists per 90 Minutes (G+A/90)',\n",
    "    'Per 90 Minutes_G-PK': 'Non-Penalty Goals per 90 Minutes (G-PK/90)',\n",
    "    'Per 90 Minutes_G+A-PK': 'Goals + Assists minus Penalty Kicks per 90 Minutes (G+A-PK/90)',\n",
    "    'Per 90 Minutes_xG': 'Expected Goals per 90 Minutes (xG/90)',\n",
    "    'Per 90 Minutes_xAG': 'Expected Assisted Goals per 90 Minutes (xAG/90)',\n",
    "    'Per 90 Minutes_xG+xAG': 'Expected Goals + Assisted Goals per 90 Minutes (xG+xAG/90)',\n",
    "    'Per 90 Minutes_npxG': 'Non-Penalty Expected Goals per 90 Minutes (npxG/90)',\n",
    "    'Per 90 Minutes_npxG+xAG': 'Non-Penalty xG + Assisted Goals per 90 Minutes (npxG+xAG/90)',\n",
    "    'Unnamed: 33_level_0_Matches': '',  # Leave empty if you don't need this column\n",
    "    'Unnamed: 4_level_0_MP': 'Matches Played (MP)',\n",
    "    'Team': 'Team',  # Already correctly named\n",
    "    'Season': 'Season'  # Already correctly named\n",
    "}\n",
    "\n",
    "# Rename the columns using the dictionary\n",
    "df.rename(columns=column_rename_dict, inplace=True)\n",
    "\n",
    "# Save the updated dataframe to a new CSV file\n",
    "df.to_csv('all_seasons_renamed.csv', index=False)\n",
    "\n",
    "print(\"Columns renamed and saved to 'all_seasons_renamed.csv'.\")\n"
   ]
  },
  {
   "cell_type": "markdown",
   "metadata": {},
   "source": [
    "## Removing Players who have not played in a season"
   ]
  },
  {
   "cell_type": "code",
   "execution_count": 12,
   "metadata": {},
   "outputs": [
    {
     "name": "stdout",
     "output_type": "stream",
     "text": [
      "   Index          Player  Nation Team Position   Age  Matches Played (MP)  \\\n",
      "0      0      Unai Simón  es ESP   AC       GK  23.0                 37.0   \n",
      "1      1  Iñigo Martínez  es ESP   AC       DF  29.0                 28.0   \n",
      "2      2  Iñaki Williams  gh GHA   AC       FW  26.0                 38.0   \n",
      "3      3  Álex Berenguer  es ESP   AC    MF,FW  25.0                 35.0   \n",
      "4      4      Ander Capa  es ESP   AC       DF  28.0                 28.0   \n",
      "\n",
      "   Starts  Minutes Played (Min)  90s Played (90s)  ...  \\\n",
      "0      37                3330.0              37.0  ...   \n",
      "1      28                2519.0              28.0  ...   \n",
      "2      27                2387.0              26.5  ...   \n",
      "3      27                2278.0              25.3  ...   \n",
      "4      25                2131.0              23.7  ...   \n",
      "\n",
      "   Non-Penalty Goals per 90 Minutes (G-PK/90)  \\\n",
      "0                                        0.00   \n",
      "1                                        0.04   \n",
      "2                                        0.19   \n",
      "3                                        0.32   \n",
      "4                                        0.08   \n",
      "\n",
      "   Goals + Assists minus Penalty Kicks per 90 Minutes (G+A-PK/90)  \\\n",
      "0                                               0.00                \n",
      "1                                               0.04                \n",
      "2                                               0.41                \n",
      "3                                               0.47                \n",
      "4                                               0.13                \n",
      "\n",
      "   Expected Goals per 90 Minutes (xG/90)  \\\n",
      "0                                   0.00   \n",
      "1                                   0.04   \n",
      "2                                   0.23   \n",
      "3                                   0.25   \n",
      "4                                   0.05   \n",
      "\n",
      "   Expected Assisted Goals per 90 Minutes (xAG/90)  \\\n",
      "0                                             0.00   \n",
      "1                                             0.02   \n",
      "2                                             0.19   \n",
      "3                                             0.14   \n",
      "4                                             0.05   \n",
      "\n",
      "   Expected Goals + Assisted Goals per 90 Minutes (xG+xAG/90)  \\\n",
      "0                                               0.00            \n",
      "1                                               0.06            \n",
      "2                                               0.43            \n",
      "3                                               0.38            \n",
      "4                                               0.10            \n",
      "\n",
      "   Non-Penalty Expected Goals per 90 Minutes (npxG/90)  \\\n",
      "0                                               0.00     \n",
      "1                                               0.04     \n",
      "2                                               0.20     \n",
      "3                                               0.25     \n",
      "4                                               0.05     \n",
      "\n",
      "   Non-Penalty xG + Assisted Goals per 90 Minutes (npxG+xAG/90)  Unnamed: 35  \\\n",
      "0                                               0.00                 Matches   \n",
      "1                                               0.06                 Matches   \n",
      "2                                               0.40                 Matches   \n",
      "3                                               0.38                 Matches   \n",
      "4                                               0.10                 Matches   \n",
      "\n",
      "      Season  Matches Played (MP).1  \n",
      "0  2020-2021                    NaN  \n",
      "1  2020-2021                    NaN  \n",
      "2  2020-2021                    NaN  \n",
      "3  2020-2021                    NaN  \n",
      "4  2020-2021                    NaN  \n",
      "\n",
      "[5 rows x 38 columns]\n"
     ]
    }
   ],
   "source": [
    "import pandas as pd\n",
    "\n",
    "# Load your dataset (replace 'your_dataset.csv' with your actual file)\n",
    "df = pd.read_csv('all_seasons_renamed.csv')\n",
    "\n",
    "# Remove players with no minutes played (blank or 0)\n",
    "# First, drop rows where 'Minutes Played (Min)' is blank (NaN)\n",
    "df = df.dropna(subset=['Minutes Played (Min)'])\n",
    "\n",
    "# Now, remove rows where 'Minutes Played (Min)' is 0\n",
    "df = df[df['Minutes Played (Min)'] > 0]\n",
    "\n",
    "# After removing these players, print the cleaned DataFrame\n",
    "print(df.head())\n",
    "\n",
    "# Optionally save the cleaned data to a new CSV file\n",
    "df.to_csv('cleaned_dataset_no_minutes.csv', index=False)\n"
   ]
  },
  {
   "cell_type": "markdown",
   "metadata": {},
   "source": [
    "\n",
    "## Removing rows where the second column has \"Squad Total\" or \"Opponent Total\"\n"
   ]
  },
  {
   "cell_type": "code",
   "execution_count": 15,
   "metadata": {},
   "outputs": [
    {
     "name": "stdout",
     "output_type": "stream",
     "text": [
      "   Index          Player  Nation Team Position   Age  Matches Played (MP)  \\\n",
      "0      0      Unai Simón  es ESP   AC       GK  23.0                 37.0   \n",
      "1      1  Iñigo Martínez  es ESP   AC       DF  29.0                 28.0   \n",
      "2      2  Iñaki Williams  gh GHA   AC       FW  26.0                 38.0   \n",
      "3      3  Álex Berenguer  es ESP   AC    MF,FW  25.0                 35.0   \n",
      "4      4      Ander Capa  es ESP   AC       DF  28.0                 28.0   \n",
      "\n",
      "   Starts  Minutes Played (Min)  90s Played (90s)  ...  \\\n",
      "0      37                3330.0              37.0  ...   \n",
      "1      28                2519.0              28.0  ...   \n",
      "2      27                2387.0              26.5  ...   \n",
      "3      27                2278.0              25.3  ...   \n",
      "4      25                2131.0              23.7  ...   \n",
      "\n",
      "   Non-Penalty Goals per 90 Minutes (G-PK/90)  \\\n",
      "0                                        0.00   \n",
      "1                                        0.04   \n",
      "2                                        0.19   \n",
      "3                                        0.32   \n",
      "4                                        0.08   \n",
      "\n",
      "   Goals + Assists minus Penalty Kicks per 90 Minutes (G+A-PK/90)  \\\n",
      "0                                               0.00                \n",
      "1                                               0.04                \n",
      "2                                               0.41                \n",
      "3                                               0.47                \n",
      "4                                               0.13                \n",
      "\n",
      "   Expected Goals per 90 Minutes (xG/90)  \\\n",
      "0                                   0.00   \n",
      "1                                   0.04   \n",
      "2                                   0.23   \n",
      "3                                   0.25   \n",
      "4                                   0.05   \n",
      "\n",
      "   Expected Assisted Goals per 90 Minutes (xAG/90)  \\\n",
      "0                                             0.00   \n",
      "1                                             0.02   \n",
      "2                                             0.19   \n",
      "3                                             0.14   \n",
      "4                                             0.05   \n",
      "\n",
      "   Expected Goals + Assisted Goals per 90 Minutes (xG+xAG/90)  \\\n",
      "0                                               0.00            \n",
      "1                                               0.06            \n",
      "2                                               0.43            \n",
      "3                                               0.38            \n",
      "4                                               0.10            \n",
      "\n",
      "   Non-Penalty Expected Goals per 90 Minutes (npxG/90)  \\\n",
      "0                                               0.00     \n",
      "1                                               0.04     \n",
      "2                                               0.20     \n",
      "3                                               0.25     \n",
      "4                                               0.05     \n",
      "\n",
      "   Non-Penalty xG + Assisted Goals per 90 Minutes (npxG+xAG/90)  Unnamed: 35  \\\n",
      "0                                               0.00                 Matches   \n",
      "1                                               0.06                 Matches   \n",
      "2                                               0.40                 Matches   \n",
      "3                                               0.38                 Matches   \n",
      "4                                               0.10                 Matches   \n",
      "\n",
      "      Season  Matches Played (MP).1  \n",
      "0  2020-2021                    NaN  \n",
      "1  2020-2021                    NaN  \n",
      "2  2020-2021                    NaN  \n",
      "3  2020-2021                    NaN  \n",
      "4  2020-2021                    NaN  \n",
      "\n",
      "[5 rows x 38 columns]\n"
     ]
    }
   ],
   "source": [
    "import pandas as pd\n",
    "\n",
    "# Load your dataset (replace 'your_dataset.csv' with your actual file)\n",
    "df = pd.read_csv('cleaned_dataset_no_minutes.csv')\n",
    "\n",
    "# Remove rows where the second column has \"Squad Total\" or \"Opponent Total\"\n",
    "df = df[~df['Player'].isin(['Squad Total', 'Opponent Total'])]\n",
    "\n",
    "# After removing these entries, print the cleaned DataFrame\n",
    "print(df.head())\n",
    "\n",
    "# Optionally save the cleaned data to a new CSV file\n",
    "df.to_csv('cleaned_dataset_no_totals.csv', index=False)\n"
   ]
  },
  {
   "cell_type": "markdown",
   "metadata": {},
   "source": [
    "## Dropping the 'Index' column"
   ]
  },
  {
   "cell_type": "code",
   "execution_count": 21,
   "metadata": {},
   "outputs": [],
   "source": [
    "# Check if 'Index' column exists before dropping it\n",
    "if 'Index' in df.columns:\n",
    "    df.drop(columns=['Index'], inplace=True)\n",
    "\n",
    "# Optionally save the updated dataframe to a new CSV file\n",
    "df.to_csv('cleaned_dataset_no_index.csv', index=False)"
   ]
  },
  {
   "cell_type": "code",
   "execution_count": null,
   "metadata": {},
   "outputs": [],
   "source": []
  },
  {
   "cell_type": "markdown",
   "metadata": {},
   "source": [
    "# Visualization"
   ]
  },
  {
   "cell_type": "markdown",
   "metadata": {},
   "source": []
  }
 ],
 "metadata": {
  "kernelspec": {
   "display_name": "base",
   "language": "python",
   "name": "python3"
  },
  "language_info": {
   "codemirror_mode": {
    "name": "ipython",
    "version": 3
   },
   "file_extension": ".py",
   "mimetype": "text/x-python",
   "name": "python",
   "nbconvert_exporter": "python",
   "pygments_lexer": "ipython3",
   "version": "3.11.5"
  }
 },
 "nbformat": 4,
 "nbformat_minor": 2
}
