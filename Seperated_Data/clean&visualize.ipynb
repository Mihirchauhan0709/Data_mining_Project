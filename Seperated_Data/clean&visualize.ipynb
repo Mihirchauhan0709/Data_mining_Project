{
 "cells": [
  {
   "cell_type": "code",
   "execution_count": 1,
   "metadata": {},
   "outputs": [],
   "source": [
    "import pandas as pd\n",
    "import matplotlib.pyplot as plt\n",
    "import seaborn as sns\n",
    "import os\n",
    "\n",
    "# Define the teams and seasons\n",
    "teams = [\n",
    "    \"Alaves\", \"Almeria\", \"Barcelona\", \"Cadiz\", \"Eibar\", \"Elche\",\n",
    "    \"Espanyol\", \"Getafe\", \"Girona\", \"Granada\", \"Huesca\", \"LasPalmas\",\n",
    "    \"Levante\", \"Mallorca\", \"Osasuna\", \"RealMadrid\", \"RealSociadad\",\n",
    "    \"Valencia\", \"Villarreal\"\n",
    "]\n",
    "seasons = [\"2020-2021\", \"2021-2022\", \"2022-2023\", \"2023-2024\"]\n",
    "\n",
    "# Initialize an empty DataFrame for all players' stats\n",
    "all_data = pd.DataFrame()\n"
   ]
  },
  {
   "cell_type": "code",
   "execution_count": 4,
   "metadata": {},
   "outputs": [],
   "source": [
    "# Load data from each CSV file\n",
    "for team in teams:\n",
    "    for season in seasons:\n",
    "        file_name = f\"{team}{season}.csv\"\n",
    "        if os.path.exists(file_name):\n",
    "            try:\n",
    "                # Read the CSV file with proper header parsing\n",
    "                df = pd.read_csv(file_name, header=[0, 1])  # Adjust header parsing for multi-level columns\n",
    "                \n",
    "                # Optional: Add team and season columns for reference\n",
    "                df['Team'] = team\n",
    "                df['Season'] = season\n",
    "                \n",
    "                # Append to all_data DataFrame\n",
    "                all_data = pd.concat([all_data, df], ignore_index=True)\n",
    "            except Exception as e:\n",
    "                print(f\"Error reading {file_name}: {e}\")\n"
   ]
  },
  {
   "cell_type": "code",
   "execution_count": null,
   "metadata": {},
   "outputs": [],
   "source": []
  }
 ],
 "metadata": {
  "kernelspec": {
   "display_name": "Python 3",
   "language": "python",
   "name": "python3"
  },
  "language_info": {
   "codemirror_mode": {
    "name": "ipython",
    "version": 3
   },
   "file_extension": ".py",
   "mimetype": "text/x-python",
   "name": "python",
   "nbconvert_exporter": "python",
   "pygments_lexer": "ipython3",
   "version": "3.10.5"
  }
 },
 "nbformat": 4,
 "nbformat_minor": 2
}
