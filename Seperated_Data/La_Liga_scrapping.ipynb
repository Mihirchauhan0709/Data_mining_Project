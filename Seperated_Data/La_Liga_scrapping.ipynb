{
  "cells": [
    {
      "cell_type": "markdown",
      "metadata": {
        "id": "5EiWTBfjpbWk"
      },
      "source": [
        "##Barcelona\n"
      ]
    },
    {
      "cell_type": "markdown",
      "metadata": {
        "id": "4UEVvSqXsGrd"
      },
      "source": [
        "2020-2021"
      ]
    },
    {
      "cell_type": "code",
      "execution_count": null,
      "metadata": {
        "colab": {
          "base_uri": "https://localhost:8080/",
          "height": 321
        },
        "id": "mPHFmbEKmI1g",
        "outputId": "2348b69f-aa2b-4bb8-e323-ad53acf6556d"
      },
      "outputs": [],
      "source": [
        "import pandas as pd\n",
        "df = pd.read_html('https://fbref.com/en/squads/206d90db/2020-2021/Barcelona-Stats', attrs = {\"id\":\"stats_standard_12\"})[0]\n",
        "df.head()"
      ]
    },
    {
      "cell_type": "code",
      "execution_count": 2,
      "metadata": {
        "colab": {
          "base_uri": "https://localhost:8080/",
          "height": 141
        },
        "id": "AcQRqhUFmk0B",
        "outputId": "4249b837-830b-45e1-83e5-d1ba49e3745d"
      },
      "outputs": [],
      "source": [
        "df.columns = ['_'.join(col).strip() for col in df.columns.values]"
      ]
    },
    {
      "cell_type": "code",
      "execution_count": null,
      "metadata": {
        "id": "p23WPfjMmnXT"
      },
      "outputs": [],
      "source": [
        "df.head()"
      ]
    },
    {
      "cell_type": "code",
      "execution_count": 4,
      "metadata": {
        "id": "Q-JqwB_rmo5f"
      },
      "outputs": [],
      "source": [
        "df.to_csv('Barcelona2020-21.csv')"
      ]
    },
    {
      "cell_type": "markdown",
      "metadata": {
        "id": "6OoNLA2SrFEI"
      },
      "source": [
        "2021-2022"
      ]
    },
    {
      "cell_type": "code",
      "execution_count": null,
      "metadata": {
        "id": "lW7Y3gkGrAL3"
      },
      "outputs": [],
      "source": [
        "import pandas as pd\n",
        "df = pd.read_html('https://fbref.com/en/squads/206d90db/2021-2022/Barcelona-Stats', attrs = {\"id\":\"stats_standard_12\"})[0]\n",
        "df.head()"
      ]
    },
    {
      "cell_type": "code",
      "execution_count": 6,
      "metadata": {
        "id": "MlyDR2J3rIh9"
      },
      "outputs": [],
      "source": [
        "df.columns = ['_'.join(col).strip() for col in df.columns.values]"
      ]
    },
    {
      "cell_type": "code",
      "execution_count": null,
      "metadata": {
        "id": "CBa-zPTtrIkm"
      },
      "outputs": [],
      "source": [
        "df.head()"
      ]
    },
    {
      "cell_type": "code",
      "execution_count": 8,
      "metadata": {
        "id": "i94QhkgarIoK"
      },
      "outputs": [],
      "source": [
        "df.to_csv('Barcelona2021-22.csv')"
      ]
    },
    {
      "cell_type": "markdown",
      "metadata": {
        "id": "gvZUlpylr9yI"
      },
      "source": [
        "2022-2023"
      ]
    },
    {
      "cell_type": "code",
      "execution_count": null,
      "metadata": {
        "id": "u5wP-TwDrn9M"
      },
      "outputs": [],
      "source": [
        "import pandas as pd\n",
        "df = pd.read_html('https://fbref.com/en/squads/206d90db/2022-2023/Barcelona-Stats', attrs = {\"id\":\"stats_standard_12\"})[0]\n",
        "df.head()"
      ]
    },
    {
      "cell_type": "code",
      "execution_count": 10,
      "metadata": {
        "id": "oLFzlumxrn9M"
      },
      "outputs": [],
      "source": [
        "df.columns = ['_'.join(col).strip() for col in df.columns.values]"
      ]
    },
    {
      "cell_type": "code",
      "execution_count": null,
      "metadata": {
        "id": "2uB7VkoWrn9N"
      },
      "outputs": [],
      "source": [
        "df.head()"
      ]
    },
    {
      "cell_type": "code",
      "execution_count": 12,
      "metadata": {
        "id": "sSvcuWznrn9N"
      },
      "outputs": [],
      "source": [
        "df.to_csv('Barcelona2022-23.csv')"
      ]
    },
    {
      "cell_type": "markdown",
      "metadata": {
        "id": "vbVrw-8rsbim"
      },
      "source": [
        "2023-2024"
      ]
    },
    {
      "cell_type": "code",
      "execution_count": null,
      "metadata": {
        "id": "lYljC6dUrv8r"
      },
      "outputs": [],
      "source": [
        "import pandas as pd\n",
        "df = pd.read_html('https://fbref.com/en/squads/206d90db/2023-2024/Barcelona-Stats', attrs = {\"id\":\"stats_standard_12\"})[0]\n",
        "df.head()"
      ]
    },
    {
      "cell_type": "code",
      "execution_count": 14,
      "metadata": {
        "id": "9zGeU3Abrv8r"
      },
      "outputs": [],
      "source": [
        "df.columns = ['_'.join(col).strip() for col in df.columns.values]"
      ]
    },
    {
      "cell_type": "code",
      "execution_count": null,
      "metadata": {
        "id": "bvdZC7S7rv8r"
      },
      "outputs": [],
      "source": [
        "df.head()"
      ]
    },
    {
      "cell_type": "code",
      "execution_count": 16,
      "metadata": {
        "id": "qHMtkxUYrv8r"
      },
      "outputs": [],
      "source": [
        "df.to_csv('Barcelona2023-24.csv')"
      ]
    },
    {
      "cell_type": "markdown",
      "metadata": {
        "id": "gnCbFpfypUNr"
      },
      "source": [
        "##Real Madrid"
      ]
    },
    {
      "cell_type": "markdown",
      "metadata": {
        "id": "DEuWVXqWttu-"
      },
      "source": [
        "2020-2021"
      ]
    },
    {
      "cell_type": "code",
      "execution_count": null,
      "metadata": {
        "collapsed": true,
        "id": "05DykGM4pmDG"
      },
      "outputs": [],
      "source": [
        "import pandas as pd6\n",
        "df = pd.read_html('https://fbref.com/en/squads/53a2f082/2020-2021/Real-Madrid-Stats', attrs = {\"id\":\"stats_standard_12\"})[0]\n",
        "df.head()"
      ]
    },
    {
      "cell_type": "code",
      "execution_count": 18,
      "metadata": {
        "id": "GKCWbPuZtcOp"
      },
      "outputs": [],
      "source": [
        "df.columns = ['_'.join(col).strip() for col in df.columns.values]"
      ]
    },
    {
      "cell_type": "code",
      "execution_count": null,
      "metadata": {
        "collapsed": true,
        "id": "bc6zVNWvtcOp"
      },
      "outputs": [],
      "source": [
        "df.head()"
      ]
    },
    {
      "cell_type": "code",
      "execution_count": 20,
      "metadata": {
        "id": "9W9UqTRJtcOp"
      },
      "outputs": [],
      "source": [
        "df.to_csv('RM2020-2021.csv')"
      ]
    },
    {
      "cell_type": "markdown",
      "metadata": {
        "id": "IXNNnb5at8IH"
      },
      "source": [
        "2021-2022"
      ]
    },
    {
      "cell_type": "code",
      "execution_count": null,
      "metadata": {
        "collapsed": true,
        "id": "YqVarYrut4Ok"
      },
      "outputs": [],
      "source": [
        "import pandas as pd6\n",
        "df = pd.read_html('https://fbref.com/en/squads/53a2f082/2021-2022/Real-Madrid-Stats', attrs = {\"id\":\"stats_standard_12\"})[0]\n",
        "df.head()"
      ]
    },
    {
      "cell_type": "code",
      "execution_count": 22,
      "metadata": {
        "id": "Zxr0YdQyt4Ok"
      },
      "outputs": [],
      "source": [
        "df.columns = ['_'.join(col).strip() for col in df.columns.values]"
      ]
    },
    {
      "cell_type": "code",
      "execution_count": null,
      "metadata": {
        "colab": {
          "base_uri": "https://localhost:8080/",
          "height": 141
        },
        "collapsed": true,
        "id": "Vln5lGWBt4Ok",
        "outputId": "76b0b7d1-1192-4fc6-d015-a4dbb766cf28"
      },
      "outputs": [],
      "source": [
        "df.head()"
      ]
    },
    {
      "cell_type": "code",
      "execution_count": 24,
      "metadata": {
        "id": "8Sbi_yBIt4Ol"
      },
      "outputs": [],
      "source": [
        "df.to_csv('RM2020-2021.csv')"
      ]
    },
    {
      "cell_type": "markdown",
      "metadata": {
        "id": "PsE3a55qt55x"
      },
      "source": [
        "2022-2023"
      ]
    },
    {
      "cell_type": "code",
      "execution_count": null,
      "metadata": {
        "collapsed": true,
        "id": "RrG0NVOeuDc6"
      },
      "outputs": [],
      "source": [
        "import pandas as pd6\n",
        "df = pd.read_html('https://fbref.com/en/squads/53a2f082/2022-2023/Real-Madrid-Stats', attrs = {\"id\":\"stats_standard_12\"})[0]\n",
        "df.head()"
      ]
    },
    {
      "cell_type": "code",
      "execution_count": 26,
      "metadata": {
        "id": "ees-YM9IuDc6"
      },
      "outputs": [],
      "source": [
        "df.columns = ['_'.join(col).strip() for col in df.columns.values]"
      ]
    },
    {
      "cell_type": "code",
      "execution_count": null,
      "metadata": {
        "id": "r6IKD1FFuDc7"
      },
      "outputs": [],
      "source": [
        "df.head()"
      ]
    },
    {
      "cell_type": "code",
      "execution_count": 28,
      "metadata": {
        "id": "beEdck6juDc7"
      },
      "outputs": [],
      "source": [
        "df.to_csv('RM2020-2021.csv')"
      ]
    },
    {
      "cell_type": "markdown",
      "metadata": {
        "id": "_Dz_Cl4MuFVE"
      },
      "source": [
        "2023-2024"
      ]
    },
    {
      "cell_type": "code",
      "execution_count": null,
      "metadata": {
        "collapsed": true,
        "id": "clsFZaYluJPI"
      },
      "outputs": [],
      "source": [
        "import pandas as pd6\n",
        "df = pd.read_html('https://fbref.com/en/squads/53a2f082/2023-2024/Real-Madrid-Stats', attrs = {\"id\":\"stats_standard_12\"})[0]\n",
        "df.head()"
      ]
    },
    {
      "cell_type": "code",
      "execution_count": 30,
      "metadata": {
        "id": "DjA3WTjRuJPJ"
      },
      "outputs": [],
      "source": [
        "df.columns = ['_'.join(col).strip() for col in df.columns.values]"
      ]
    },
    {
      "cell_type": "code",
      "execution_count": null,
      "metadata": {
        "id": "cOwDh99_uJPJ"
      },
      "outputs": [],
      "source": [
        "df.head()"
      ]
    },
    {
      "cell_type": "code",
      "execution_count": 32,
      "metadata": {
        "id": "pwG_QY37uJPJ"
      },
      "outputs": [],
      "source": [
        "df.to_csv('RM2020-2021.csv')"
      ]
    },
    {
      "cell_type": "markdown",
      "metadata": {
        "id": "aQn8yOb2rZoX"
      },
      "source": [
        "# Osasuna"
      ]
    },
    {
      "cell_type": "markdown",
      "metadata": {
        "id": "yN1019q3sSxs"
      },
      "source": [
        " 2020 - 2021"
      ]
    },
    {
      "cell_type": "code",
      "execution_count": null,
      "metadata": {
        "collapsed": true,
        "id": "E9UCPgXLrk4U"
      },
      "outputs": [],
      "source": [
        "import pandas as pd6\n",
        "df = pd.read_html('https://fbref.com/en/squads/03c57e2b/2020-2021/Osasuna-Stats', attrs = {\"id\":\"stats_standard_12\"})[0]\n",
        "df.head()\n",
        "\n"
      ]
    },
    {
      "cell_type": "code",
      "execution_count": 34,
      "metadata": {
        "id": "PXH7JLsmrlMv"
      },
      "outputs": [],
      "source": [
        "df.columns = ['_'.join(col).strip() for col in df.columns.values]\n",
        "\n"
      ]
    },
    {
      "cell_type": "code",
      "execution_count": null,
      "metadata": {
        "collapsed": true,
        "id": "LpwYCxhgrpiV"
      },
      "outputs": [],
      "source": [
        "df.head()\n",
        "\n"
      ]
    },
    {
      "cell_type": "code",
      "execution_count": 36,
      "metadata": {
        "id": "9lJr9VwLrpl4"
      },
      "outputs": [],
      "source": [
        "df.to_csv('Osasuna2020-2021.csv')"
      ]
    },
    {
      "cell_type": "markdown",
      "metadata": {
        "id": "EYrXuJzusiMu"
      },
      "source": [
        " 2021-2022"
      ]
    },
    {
      "cell_type": "code",
      "execution_count": null,
      "metadata": {
        "collapsed": true,
        "id": "p7J45Q_muBu2"
      },
      "outputs": [],
      "source": [
        "import pandas as pd6\n",
        "df = pd.read_html('https://fbref.com/en/squads/03c57e2b/2021-2022/Osasuna-Stats', attrs = {\"id\":\"stats_standard_12\"})[0]\n",
        "df.head()\n",
        "\n"
      ]
    },
    {
      "cell_type": "code",
      "execution_count": 38,
      "metadata": {
        "id": "m3RbXaoeuBu3"
      },
      "outputs": [],
      "source": [
        "df.columns = ['_'.join(col).strip() for col in df.columns.values]\n",
        "\n"
      ]
    },
    {
      "cell_type": "code",
      "execution_count": null,
      "metadata": {
        "collapsed": true,
        "id": "rAkQpr90uBu4"
      },
      "outputs": [],
      "source": [
        "df.head()\n",
        "\n"
      ]
    },
    {
      "cell_type": "code",
      "execution_count": 40,
      "metadata": {
        "id": "W1i4NIUOuBu4"
      },
      "outputs": [],
      "source": [
        "df.to_csv('Osasuna2021-2022.csv')"
      ]
    },
    {
      "cell_type": "markdown",
      "metadata": {
        "id": "oy7CCcg2uoRY"
      },
      "source": [
        " 2022 - 2023"
      ]
    },
    {
      "cell_type": "code",
      "execution_count": null,
      "metadata": {
        "collapsed": true,
        "id": "9mZ9M4qOuskd"
      },
      "outputs": [],
      "source": [
        "import pandas as pd6\n",
        "df = pd.read_html('https://fbref.com/en/squads/03c57e2b/2022-2023/Osasuna-Stats', attrs = {\"id\":\"stats_standard_12\"})[0]\n",
        "df.head()\n",
        "\n"
      ]
    },
    {
      "cell_type": "code",
      "execution_count": 42,
      "metadata": {
        "id": "BdBFFCR8uske"
      },
      "outputs": [],
      "source": [
        "df.columns = ['_'.join(col).strip() for col in df.columns.values]\n",
        "\n"
      ]
    },
    {
      "cell_type": "code",
      "execution_count": null,
      "metadata": {
        "collapsed": true,
        "id": "JwNK9bB2uske"
      },
      "outputs": [],
      "source": [
        "df.head()\n",
        "\n"
      ]
    },
    {
      "cell_type": "code",
      "execution_count": 44,
      "metadata": {
        "id": "-M6N-GRquske"
      },
      "outputs": [],
      "source": [
        "df.to_csv('Osasuna2022-2023.csv')"
      ]
    },
    {
      "cell_type": "markdown",
      "metadata": {
        "id": "Rw-aoJXHuxHv"
      },
      "source": [
        " 2023 - 2024"
      ]
    },
    {
      "cell_type": "code",
      "execution_count": null,
      "metadata": {
        "collapsed": true,
        "id": "C20dOFJ-uzte"
      },
      "outputs": [],
      "source": [
        "import pandas as pd6\n",
        "df = pd.read_html('https://fbref.com/en/squads/03c57e2b/2023-2024/Osasuna-Stats', attrs = {\"id\":\"stats_standard_12\"})[0]\n",
        "df.head()\n",
        "\n"
      ]
    },
    {
      "cell_type": "code",
      "execution_count": 46,
      "metadata": {
        "id": "un6XX1mquztf"
      },
      "outputs": [],
      "source": [
        "df.columns = ['_'.join(col).strip() for col in df.columns.values]\n",
        "\n"
      ]
    },
    {
      "cell_type": "code",
      "execution_count": null,
      "metadata": {
        "collapsed": true,
        "id": "sjXeYxleuztf"
      },
      "outputs": [],
      "source": [
        "df.head()\n",
        "\n"
      ]
    },
    {
      "cell_type": "code",
      "execution_count": 48,
      "metadata": {
        "id": "pHIRUpC0uztf"
      },
      "outputs": [],
      "source": [
        "df.to_csv('Osasuna2023-2024.csv')"
      ]
    },
    {
      "cell_type": "markdown",
      "metadata": {
        "id": "Bq4Aj-zIu6mA"
      },
      "source": [
        "# Atlético Madrid"
      ]
    },
    {
      "cell_type": "markdown",
      "metadata": {
        "id": "7KQOiq2Fu68Z"
      },
      "source": [
        "2020-2021"
      ]
    },
    {
      "cell_type": "code",
      "execution_count": null,
      "metadata": {
        "collapsed": true,
        "id": "RhUn6i60vgc7"
      },
      "outputs": [],
      "source": [
        "import pandas as pd6\n",
        "df = pd.read_html('https://fbref.com/en/squads/db3b9613/2020-2021/Atletico-Madrid-Stats', attrs = {\"id\":\"stats_standard_12\"})[0]\n",
        "df.head()\n",
        "\n"
      ]
    },
    {
      "cell_type": "code",
      "execution_count": 50,
      "metadata": {
        "id": "SeYn2k8hvgc8"
      },
      "outputs": [],
      "source": [
        "df.columns = ['_'.join(col).strip() for col in df.columns.values]\n",
        "\n"
      ]
    },
    {
      "cell_type": "code",
      "execution_count": null,
      "metadata": {
        "collapsed": true,
        "id": "HQeaTky2vgc8"
      },
      "outputs": [],
      "source": [
        "df.head()\n",
        "\n"
      ]
    },
    {
      "cell_type": "code",
      "execution_count": 52,
      "metadata": {
        "id": "pgrvPYrKvgc8"
      },
      "outputs": [],
      "source": [
        "df.to_csv('AM2020-2021.csv')"
      ]
    },
    {
      "cell_type": "markdown",
      "metadata": {
        "id": "uTRh1dgBvFnP"
      },
      "source": [
        "2021-2022"
      ]
    },
    {
      "cell_type": "code",
      "execution_count": null,
      "metadata": {
        "collapsed": true,
        "id": "KyAUQBT6vhQZ"
      },
      "outputs": [],
      "source": [
        "import pandas as pd6\n",
        "df = pd.read_html('https://fbref.com/en/squads/db3b9613/2021-2022/Atletico-Madrid-Stats', attrs = {\"id\":\"stats_standard_12\"})[0]\n",
        "df.head()\n",
        "\n"
      ]
    },
    {
      "cell_type": "code",
      "execution_count": 54,
      "metadata": {
        "id": "suy8i6R0vhQZ"
      },
      "outputs": [],
      "source": [
        "df.columns = ['_'.join(col).strip() for col in df.columns.values]\n",
        "\n"
      ]
    },
    {
      "cell_type": "code",
      "execution_count": null,
      "metadata": {
        "collapsed": true,
        "id": "1ITcOHjsvhQa"
      },
      "outputs": [],
      "source": [
        "df.head()\n",
        "\n"
      ]
    },
    {
      "cell_type": "code",
      "execution_count": 56,
      "metadata": {
        "id": "ap6XNaRBvhQa"
      },
      "outputs": [],
      "source": [
        "df.to_csv('AM2021-2022.csv')"
      ]
    },
    {
      "cell_type": "markdown",
      "metadata": {
        "id": "akiICPexvFv3"
      },
      "source": [
        "2022-2023"
      ]
    },
    {
      "cell_type": "code",
      "execution_count": null,
      "metadata": {
        "collapsed": true,
        "id": "RqM-2I-rviAv"
      },
      "outputs": [],
      "source": [
        "import pandas as pd6\n",
        "df = pd.read_html('https://fbref.com/en/squads/db3b9613/2022-2023/Atletico-Madrid-Stats', attrs = {\"id\":\"stats_standard_12\"})[0]\n",
        "df.head()\n",
        "\n"
      ]
    },
    {
      "cell_type": "code",
      "execution_count": 58,
      "metadata": {
        "id": "05eZxCOCviAv"
      },
      "outputs": [],
      "source": [
        "df.columns = ['_'.join(col).strip() for col in df.columns.values]\n",
        "\n"
      ]
    },
    {
      "cell_type": "code",
      "execution_count": null,
      "metadata": {
        "collapsed": true,
        "id": "0siMsz6BviAv"
      },
      "outputs": [],
      "source": [
        "df.head()\n",
        "\n"
      ]
    },
    {
      "cell_type": "code",
      "execution_count": 60,
      "metadata": {
        "id": "Tlnqyxw7viAw"
      },
      "outputs": [],
      "source": [
        "df.to_csv('AM2022-2023.csv')"
      ]
    },
    {
      "cell_type": "markdown",
      "metadata": {
        "id": "K207kW-gvF5w"
      },
      "source": [
        "2023-2024"
      ]
    },
    {
      "cell_type": "code",
      "execution_count": null,
      "metadata": {
        "collapsed": true,
        "id": "j-_neOhPvinn"
      },
      "outputs": [],
      "source": [
        "import pandas as pd6\n",
        "df = pd.read_html('https://fbref.com/en/squads/db3b9613/2023-2024/Atletico-Madrid-Stats', attrs = {\"id\":\"stats_standard_12\"})[0]\n",
        "df.head()\n",
        "\n"
      ]
    },
    {
      "cell_type": "code",
      "execution_count": 62,
      "metadata": {
        "id": "xjAuCXCFvino"
      },
      "outputs": [],
      "source": [
        "df.columns = ['_'.join(col).strip() for col in df.columns.values]\n",
        "\n"
      ]
    },
    {
      "cell_type": "code",
      "execution_count": null,
      "metadata": {
        "collapsed": true,
        "id": "ZP6YGKjhvino"
      },
      "outputs": [],
      "source": [
        "df.head()\n",
        "\n"
      ]
    },
    {
      "cell_type": "code",
      "execution_count": 64,
      "metadata": {
        "id": "ZIcXOUbBvino"
      },
      "outputs": [],
      "source": [
        "df.to_csv('AM2023-2024.csv')"
      ]
    },
    {
      "cell_type": "markdown",
      "metadata": {
        "id": "yS09WVPnwH2Q"
      },
      "source": [
        "# Villarreal"
      ]
    },
    {
      "cell_type": "markdown",
      "metadata": {
        "id": "JBbLOVhjwRPm"
      },
      "source": [
        "2020-2021"
      ]
    },
    {
      "cell_type": "code",
      "execution_count": null,
      "metadata": {
        "collapsed": true,
        "id": "qSZ9YcXQweAn"
      },
      "outputs": [],
      "source": [
        "import pandas as pd6\n",
        "df = pd.read_html('https://fbref.com/en/squads/2a8183b3/2020-2021/Villarreal-Stats', attrs = {\"id\":\"stats_standard_12\"})[0]\n",
        "df.head()\n",
        "\n"
      ]
    },
    {
      "cell_type": "code",
      "execution_count": 66,
      "metadata": {
        "id": "-G-uAT2FweAn"
      },
      "outputs": [],
      "source": [
        "df.columns = ['_'.join(col).strip() for col in df.columns.values]\n",
        "\n"
      ]
    },
    {
      "cell_type": "code",
      "execution_count": null,
      "metadata": {
        "collapsed": true,
        "id": "C16MStagweAn"
      },
      "outputs": [],
      "source": [
        "df.head()\n",
        "\n"
      ]
    },
    {
      "cell_type": "code",
      "execution_count": 68,
      "metadata": {
        "id": "HmMJFoW9weAo"
      },
      "outputs": [],
      "source": [
        "df.to_csv('Villarreal2020-2021.csv')"
      ]
    },
    {
      "cell_type": "markdown",
      "metadata": {
        "id": "Da_V2_6bwRh6"
      },
      "source": [
        "2021-2022"
      ]
    },
    {
      "cell_type": "code",
      "execution_count": null,
      "metadata": {
        "collapsed": true,
        "id": "SgVPd_LNwx2w"
      },
      "outputs": [],
      "source": [
        "import pandas as pd6\n",
        "df = pd.read_html('https://fbref.com/en/squads/2a8183b3/2021-2022/Villarreal-Stats', attrs = {\"id\":\"stats_standard_12\"})[0]\n",
        "df.head()\n",
        "\n"
      ]
    },
    {
      "cell_type": "code",
      "execution_count": 70,
      "metadata": {
        "id": "fESE0_dJwx2x"
      },
      "outputs": [],
      "source": [
        "df.columns = ['_'.join(col).strip() for col in df.columns.values]\n",
        "\n"
      ]
    },
    {
      "cell_type": "code",
      "execution_count": null,
      "metadata": {
        "collapsed": true,
        "id": "y4NVNhCDwx2x"
      },
      "outputs": [],
      "source": [
        "df.head()\n",
        "\n"
      ]
    },
    {
      "cell_type": "code",
      "execution_count": 72,
      "metadata": {
        "id": "Dl4mHN3_wx2x"
      },
      "outputs": [],
      "source": [
        "df.to_csv('Villarreal2021-2022.csv')"
      ]
    },
    {
      "cell_type": "markdown",
      "metadata": {
        "id": "MGp9Q2QPwRrZ"
      },
      "source": [
        "2022-2023"
      ]
    },
    {
      "cell_type": "code",
      "execution_count": 82,
      "metadata": {
        "collapsed": true,
        "id": "9LluIfQFwynj"
      },
      "outputs": [
        {
          "ename": "HTTPError",
          "evalue": "HTTP Error 429: Too Many Requests",
          "output_type": "error",
          "traceback": [
            "\u001b[1;31m---------------------------------------------------------------------------\u001b[0m",
            "\u001b[1;31mHTTPError\u001b[0m                                 Traceback (most recent call last)",
            "Cell \u001b[1;32mIn[82], line 2\u001b[0m\n\u001b[0;32m      1\u001b[0m \u001b[38;5;28;01mimport\u001b[39;00m \u001b[38;5;21;01mpandas\u001b[39;00m \u001b[38;5;28;01mas\u001b[39;00m \u001b[38;5;21;01mpd6\u001b[39;00m\n\u001b[1;32m----> 2\u001b[0m df \u001b[38;5;241m=\u001b[39m pd\u001b[38;5;241m.\u001b[39mread_html(\u001b[38;5;124m'\u001b[39m\u001b[38;5;124mhttps://fbref.com/en/squads/2a8183b3/2022-2023/Villarreal-Stats\u001b[39m\u001b[38;5;124m'\u001b[39m, attrs \u001b[38;5;241m=\u001b[39m {\u001b[38;5;124m\"\u001b[39m\u001b[38;5;124mid\u001b[39m\u001b[38;5;124m\"\u001b[39m:\u001b[38;5;124m\"\u001b[39m\u001b[38;5;124mstats_standard_12\u001b[39m\u001b[38;5;124m\"\u001b[39m})[\u001b[38;5;241m0\u001b[39m]\n\u001b[0;32m      3\u001b[0m df\u001b[38;5;241m.\u001b[39mhead()\n",
            "File \u001b[1;32mc:\\Users\\Rohan Jain\\anaconda3\\Lib\\site-packages\\pandas\\io\\html.py:1212\u001b[0m, in \u001b[0;36mread_html\u001b[1;34m(io, match, flavor, header, index_col, skiprows, attrs, parse_dates, thousands, encoding, decimal, converters, na_values, keep_default_na, displayed_only, extract_links, dtype_backend)\u001b[0m\n\u001b[0;32m   1208\u001b[0m check_dtype_backend(dtype_backend)\n\u001b[0;32m   1210\u001b[0m io \u001b[38;5;241m=\u001b[39m stringify_path(io)\n\u001b[1;32m-> 1212\u001b[0m \u001b[38;5;28;01mreturn\u001b[39;00m _parse(\n\u001b[0;32m   1213\u001b[0m     flavor\u001b[38;5;241m=\u001b[39mflavor,\n\u001b[0;32m   1214\u001b[0m     io\u001b[38;5;241m=\u001b[39mio,\n\u001b[0;32m   1215\u001b[0m     match\u001b[38;5;241m=\u001b[39mmatch,\n\u001b[0;32m   1216\u001b[0m     header\u001b[38;5;241m=\u001b[39mheader,\n\u001b[0;32m   1217\u001b[0m     index_col\u001b[38;5;241m=\u001b[39mindex_col,\n\u001b[0;32m   1218\u001b[0m     skiprows\u001b[38;5;241m=\u001b[39mskiprows,\n\u001b[0;32m   1219\u001b[0m     parse_dates\u001b[38;5;241m=\u001b[39mparse_dates,\n\u001b[0;32m   1220\u001b[0m     thousands\u001b[38;5;241m=\u001b[39mthousands,\n\u001b[0;32m   1221\u001b[0m     attrs\u001b[38;5;241m=\u001b[39mattrs,\n\u001b[0;32m   1222\u001b[0m     encoding\u001b[38;5;241m=\u001b[39mencoding,\n\u001b[0;32m   1223\u001b[0m     decimal\u001b[38;5;241m=\u001b[39mdecimal,\n\u001b[0;32m   1224\u001b[0m     converters\u001b[38;5;241m=\u001b[39mconverters,\n\u001b[0;32m   1225\u001b[0m     na_values\u001b[38;5;241m=\u001b[39mna_values,\n\u001b[0;32m   1226\u001b[0m     keep_default_na\u001b[38;5;241m=\u001b[39mkeep_default_na,\n\u001b[0;32m   1227\u001b[0m     displayed_only\u001b[38;5;241m=\u001b[39mdisplayed_only,\n\u001b[0;32m   1228\u001b[0m     extract_links\u001b[38;5;241m=\u001b[39mextract_links,\n\u001b[0;32m   1229\u001b[0m     dtype_backend\u001b[38;5;241m=\u001b[39mdtype_backend,\n\u001b[0;32m   1230\u001b[0m )\n",
            "File \u001b[1;32mc:\\Users\\Rohan Jain\\anaconda3\\Lib\\site-packages\\pandas\\io\\html.py:981\u001b[0m, in \u001b[0;36m_parse\u001b[1;34m(flavor, io, match, attrs, encoding, displayed_only, extract_links, **kwargs)\u001b[0m\n\u001b[0;32m    978\u001b[0m p \u001b[38;5;241m=\u001b[39m parser(io, compiled_match, attrs, encoding, displayed_only, extract_links)\n\u001b[0;32m    980\u001b[0m \u001b[38;5;28;01mtry\u001b[39;00m:\n\u001b[1;32m--> 981\u001b[0m     tables \u001b[38;5;241m=\u001b[39m p\u001b[38;5;241m.\u001b[39mparse_tables()\n\u001b[0;32m    982\u001b[0m \u001b[38;5;28;01mexcept\u001b[39;00m \u001b[38;5;167;01mValueError\u001b[39;00m \u001b[38;5;28;01mas\u001b[39;00m caught:\n\u001b[0;32m    983\u001b[0m     \u001b[38;5;66;03m# if `io` is an io-like object, check if it's seekable\u001b[39;00m\n\u001b[0;32m    984\u001b[0m     \u001b[38;5;66;03m# and try to rewind it before trying the next parser\u001b[39;00m\n\u001b[0;32m    985\u001b[0m     \u001b[38;5;28;01mif\u001b[39;00m \u001b[38;5;28mhasattr\u001b[39m(io, \u001b[38;5;124m\"\u001b[39m\u001b[38;5;124mseekable\u001b[39m\u001b[38;5;124m\"\u001b[39m) \u001b[38;5;129;01mand\u001b[39;00m io\u001b[38;5;241m.\u001b[39mseekable():\n",
            "File \u001b[1;32mc:\\Users\\Rohan Jain\\anaconda3\\Lib\\site-packages\\pandas\\io\\html.py:257\u001b[0m, in \u001b[0;36m_HtmlFrameParser.parse_tables\u001b[1;34m(self)\u001b[0m\n\u001b[0;32m    249\u001b[0m \u001b[38;5;28;01mdef\u001b[39;00m \u001b[38;5;21mparse_tables\u001b[39m(\u001b[38;5;28mself\u001b[39m):\n\u001b[0;32m    250\u001b[0m \u001b[38;5;250m    \u001b[39m\u001b[38;5;124;03m\"\"\"\u001b[39;00m\n\u001b[0;32m    251\u001b[0m \u001b[38;5;124;03m    Parse and return all tables from the DOM.\u001b[39;00m\n\u001b[0;32m    252\u001b[0m \n\u001b[1;32m   (...)\u001b[0m\n\u001b[0;32m    255\u001b[0m \u001b[38;5;124;03m    list of parsed (header, body, footer) tuples from tables.\u001b[39;00m\n\u001b[0;32m    256\u001b[0m \u001b[38;5;124;03m    \"\"\"\u001b[39;00m\n\u001b[1;32m--> 257\u001b[0m     tables \u001b[38;5;241m=\u001b[39m \u001b[38;5;28mself\u001b[39m\u001b[38;5;241m.\u001b[39m_parse_tables(\u001b[38;5;28mself\u001b[39m\u001b[38;5;241m.\u001b[39m_build_doc(), \u001b[38;5;28mself\u001b[39m\u001b[38;5;241m.\u001b[39mmatch, \u001b[38;5;28mself\u001b[39m\u001b[38;5;241m.\u001b[39mattrs)\n\u001b[0;32m    258\u001b[0m     \u001b[38;5;28;01mreturn\u001b[39;00m (\u001b[38;5;28mself\u001b[39m\u001b[38;5;241m.\u001b[39m_parse_thead_tbody_tfoot(table) \u001b[38;5;28;01mfor\u001b[39;00m table \u001b[38;5;129;01min\u001b[39;00m tables)\n",
            "File \u001b[1;32mc:\\Users\\Rohan Jain\\anaconda3\\Lib\\site-packages\\pandas\\io\\html.py:816\u001b[0m, in \u001b[0;36m_LxmlFrameParser._build_doc\u001b[1;34m(self)\u001b[0m\n\u001b[0;32m    814\u001b[0m             \u001b[38;5;28;01mpass\u001b[39;00m\n\u001b[0;32m    815\u001b[0m     \u001b[38;5;28;01melse\u001b[39;00m:\n\u001b[1;32m--> 816\u001b[0m         \u001b[38;5;28;01mraise\u001b[39;00m e\n\u001b[0;32m    817\u001b[0m \u001b[38;5;28;01melse\u001b[39;00m:\n\u001b[0;32m    818\u001b[0m     \u001b[38;5;28;01mif\u001b[39;00m \u001b[38;5;129;01mnot\u001b[39;00m \u001b[38;5;28mhasattr\u001b[39m(r, \u001b[38;5;124m\"\u001b[39m\u001b[38;5;124mtext_content\u001b[39m\u001b[38;5;124m\"\u001b[39m):\n",
            "File \u001b[1;32mc:\\Users\\Rohan Jain\\anaconda3\\Lib\\site-packages\\pandas\\io\\html.py:797\u001b[0m, in \u001b[0;36m_LxmlFrameParser._build_doc\u001b[1;34m(self)\u001b[0m\n\u001b[0;32m    795\u001b[0m \u001b[38;5;28;01mtry\u001b[39;00m:\n\u001b[0;32m    796\u001b[0m     \u001b[38;5;28;01mif\u001b[39;00m is_url(\u001b[38;5;28mself\u001b[39m\u001b[38;5;241m.\u001b[39mio):\n\u001b[1;32m--> 797\u001b[0m         \u001b[38;5;28;01mwith\u001b[39;00m urlopen(\u001b[38;5;28mself\u001b[39m\u001b[38;5;241m.\u001b[39mio) \u001b[38;5;28;01mas\u001b[39;00m f:\n\u001b[0;32m    798\u001b[0m             r \u001b[38;5;241m=\u001b[39m parse(f, parser\u001b[38;5;241m=\u001b[39mparser)\n\u001b[0;32m    799\u001b[0m     \u001b[38;5;28;01melse\u001b[39;00m:\n\u001b[0;32m    800\u001b[0m         \u001b[38;5;66;03m# try to parse the input in the simplest way\u001b[39;00m\n",
            "File \u001b[1;32mc:\\Users\\Rohan Jain\\anaconda3\\Lib\\site-packages\\pandas\\io\\common.py:270\u001b[0m, in \u001b[0;36murlopen\u001b[1;34m(*args, **kwargs)\u001b[0m\n\u001b[0;32m    264\u001b[0m \u001b[38;5;250m\u001b[39m\u001b[38;5;124;03m\"\"\"\u001b[39;00m\n\u001b[0;32m    265\u001b[0m \u001b[38;5;124;03mLazy-import wrapper for stdlib urlopen, as that imports a big chunk of\u001b[39;00m\n\u001b[0;32m    266\u001b[0m \u001b[38;5;124;03mthe stdlib.\u001b[39;00m\n\u001b[0;32m    267\u001b[0m \u001b[38;5;124;03m\"\"\"\u001b[39;00m\n\u001b[0;32m    268\u001b[0m \u001b[38;5;28;01mimport\u001b[39;00m \u001b[38;5;21;01murllib\u001b[39;00m\u001b[38;5;21;01m.\u001b[39;00m\u001b[38;5;21;01mrequest\u001b[39;00m\n\u001b[1;32m--> 270\u001b[0m \u001b[38;5;28;01mreturn\u001b[39;00m urllib\u001b[38;5;241m.\u001b[39mrequest\u001b[38;5;241m.\u001b[39murlopen(\u001b[38;5;241m*\u001b[39margs, \u001b[38;5;241m*\u001b[39m\u001b[38;5;241m*\u001b[39mkwargs)\n",
            "File \u001b[1;32mc:\\Users\\Rohan Jain\\anaconda3\\Lib\\urllib\\request.py:216\u001b[0m, in \u001b[0;36murlopen\u001b[1;34m(url, data, timeout, cafile, capath, cadefault, context)\u001b[0m\n\u001b[0;32m    214\u001b[0m \u001b[38;5;28;01melse\u001b[39;00m:\n\u001b[0;32m    215\u001b[0m     opener \u001b[38;5;241m=\u001b[39m _opener\n\u001b[1;32m--> 216\u001b[0m \u001b[38;5;28;01mreturn\u001b[39;00m opener\u001b[38;5;241m.\u001b[39mopen(url, data, timeout)\n",
            "File \u001b[1;32mc:\\Users\\Rohan Jain\\anaconda3\\Lib\\urllib\\request.py:525\u001b[0m, in \u001b[0;36mOpenerDirector.open\u001b[1;34m(self, fullurl, data, timeout)\u001b[0m\n\u001b[0;32m    523\u001b[0m \u001b[38;5;28;01mfor\u001b[39;00m processor \u001b[38;5;129;01min\u001b[39;00m \u001b[38;5;28mself\u001b[39m\u001b[38;5;241m.\u001b[39mprocess_response\u001b[38;5;241m.\u001b[39mget(protocol, []):\n\u001b[0;32m    524\u001b[0m     meth \u001b[38;5;241m=\u001b[39m \u001b[38;5;28mgetattr\u001b[39m(processor, meth_name)\n\u001b[1;32m--> 525\u001b[0m     response \u001b[38;5;241m=\u001b[39m meth(req, response)\n\u001b[0;32m    527\u001b[0m \u001b[38;5;28;01mreturn\u001b[39;00m response\n",
            "File \u001b[1;32mc:\\Users\\Rohan Jain\\anaconda3\\Lib\\urllib\\request.py:634\u001b[0m, in \u001b[0;36mHTTPErrorProcessor.http_response\u001b[1;34m(self, request, response)\u001b[0m\n\u001b[0;32m    631\u001b[0m \u001b[38;5;66;03m# According to RFC 2616, \"2xx\" code indicates that the client's\u001b[39;00m\n\u001b[0;32m    632\u001b[0m \u001b[38;5;66;03m# request was successfully received, understood, and accepted.\u001b[39;00m\n\u001b[0;32m    633\u001b[0m \u001b[38;5;28;01mif\u001b[39;00m \u001b[38;5;129;01mnot\u001b[39;00m (\u001b[38;5;241m200\u001b[39m \u001b[38;5;241m<\u001b[39m\u001b[38;5;241m=\u001b[39m code \u001b[38;5;241m<\u001b[39m \u001b[38;5;241m300\u001b[39m):\n\u001b[1;32m--> 634\u001b[0m     response \u001b[38;5;241m=\u001b[39m \u001b[38;5;28mself\u001b[39m\u001b[38;5;241m.\u001b[39mparent\u001b[38;5;241m.\u001b[39merror(\n\u001b[0;32m    635\u001b[0m         \u001b[38;5;124m'\u001b[39m\u001b[38;5;124mhttp\u001b[39m\u001b[38;5;124m'\u001b[39m, request, response, code, msg, hdrs)\n\u001b[0;32m    637\u001b[0m \u001b[38;5;28;01mreturn\u001b[39;00m response\n",
            "File \u001b[1;32mc:\\Users\\Rohan Jain\\anaconda3\\Lib\\urllib\\request.py:563\u001b[0m, in \u001b[0;36mOpenerDirector.error\u001b[1;34m(self, proto, *args)\u001b[0m\n\u001b[0;32m    561\u001b[0m \u001b[38;5;28;01mif\u001b[39;00m http_err:\n\u001b[0;32m    562\u001b[0m     args \u001b[38;5;241m=\u001b[39m (\u001b[38;5;28mdict\u001b[39m, \u001b[38;5;124m'\u001b[39m\u001b[38;5;124mdefault\u001b[39m\u001b[38;5;124m'\u001b[39m, \u001b[38;5;124m'\u001b[39m\u001b[38;5;124mhttp_error_default\u001b[39m\u001b[38;5;124m'\u001b[39m) \u001b[38;5;241m+\u001b[39m orig_args\n\u001b[1;32m--> 563\u001b[0m     \u001b[38;5;28;01mreturn\u001b[39;00m \u001b[38;5;28mself\u001b[39m\u001b[38;5;241m.\u001b[39m_call_chain(\u001b[38;5;241m*\u001b[39margs)\n",
            "File \u001b[1;32mc:\\Users\\Rohan Jain\\anaconda3\\Lib\\urllib\\request.py:496\u001b[0m, in \u001b[0;36mOpenerDirector._call_chain\u001b[1;34m(self, chain, kind, meth_name, *args)\u001b[0m\n\u001b[0;32m    494\u001b[0m \u001b[38;5;28;01mfor\u001b[39;00m handler \u001b[38;5;129;01min\u001b[39;00m handlers:\n\u001b[0;32m    495\u001b[0m     func \u001b[38;5;241m=\u001b[39m \u001b[38;5;28mgetattr\u001b[39m(handler, meth_name)\n\u001b[1;32m--> 496\u001b[0m     result \u001b[38;5;241m=\u001b[39m func(\u001b[38;5;241m*\u001b[39margs)\n\u001b[0;32m    497\u001b[0m     \u001b[38;5;28;01mif\u001b[39;00m result \u001b[38;5;129;01mis\u001b[39;00m \u001b[38;5;129;01mnot\u001b[39;00m \u001b[38;5;28;01mNone\u001b[39;00m:\n\u001b[0;32m    498\u001b[0m         \u001b[38;5;28;01mreturn\u001b[39;00m result\n",
            "File \u001b[1;32mc:\\Users\\Rohan Jain\\anaconda3\\Lib\\urllib\\request.py:643\u001b[0m, in \u001b[0;36mHTTPDefaultErrorHandler.http_error_default\u001b[1;34m(self, req, fp, code, msg, hdrs)\u001b[0m\n\u001b[0;32m    642\u001b[0m \u001b[38;5;28;01mdef\u001b[39;00m \u001b[38;5;21mhttp_error_default\u001b[39m(\u001b[38;5;28mself\u001b[39m, req, fp, code, msg, hdrs):\n\u001b[1;32m--> 643\u001b[0m     \u001b[38;5;28;01mraise\u001b[39;00m HTTPError(req\u001b[38;5;241m.\u001b[39mfull_url, code, msg, hdrs, fp)\n",
            "\u001b[1;31mHTTPError\u001b[0m: HTTP Error 429: Too Many Requests"
          ]
        }
      ],
      "source": [
        "import pandas as pd6\n",
        "df = pd.read_html('https://fbref.com/en/squads/2a8183b3/2022-2023/Villarreal-Stats', attrs = {\"id\":\"stats_standard_12\"})[0]\n",
        "df.head()"
      ]
    },
    {
      "cell_type": "code",
      "execution_count": null,
      "metadata": {
        "id": "aIxD5GnPwynk"
      },
      "outputs": [],
      "source": [
        "df.columns = ['_'.join(col).strip() for col in df.columns.values]\n",
        "\n"
      ]
    },
    {
      "cell_type": "code",
      "execution_count": null,
      "metadata": {
        "collapsed": true,
        "id": "zn15HmANwynk"
      },
      "outputs": [],
      "source": [
        "df.head()\n",
        "\n"
      ]
    },
    {
      "cell_type": "code",
      "execution_count": null,
      "metadata": {
        "id": "W9x8FngCwynk"
      },
      "outputs": [],
      "source": [
        "df.to_csv('Villarreal2022-2023.csv')"
      ]
    },
    {
      "cell_type": "markdown",
      "metadata": {
        "id": "xaJyzJEHwR32"
      },
      "source": [
        "2023-2024"
      ]
    },
    {
      "cell_type": "code",
      "execution_count": null,
      "metadata": {
        "collapsed": true,
        "id": "MIYhXswcwzc8"
      },
      "outputs": [],
      "source": [
        "import pandas as pd6\n",
        "df = pd.read_html('https://fbref.com/en/squads/2a8183b3/2023-2024/Villarreal-Stats', attrs = {\"id\":\"stats_standard_12\"})[0]\n",
        "df.head()\n",
        "\n"
      ]
    },
    {
      "cell_type": "code",
      "execution_count": null,
      "metadata": {
        "id": "faMixTtFwzc9"
      },
      "outputs": [],
      "source": [
        "df.columns = ['_'.join(col).strip() for col in df.columns.values]\n",
        "\n"
      ]
    },
    {
      "cell_type": "code",
      "execution_count": null,
      "metadata": {
        "collapsed": true,
        "id": "JbtOgUmPwzc9"
      },
      "outputs": [],
      "source": [
        "df.head()\n",
        "\n"
      ]
    },
    {
      "cell_type": "code",
      "execution_count": null,
      "metadata": {
        "id": "6U-jLRttwzc9"
      },
      "outputs": [],
      "source": [
        "df.to_csv('Villarreal2023-2024.csv')"
      ]
    },
    {
      "cell_type": "markdown",
      "metadata": {
        "id": "78VkF2mHxBze"
      },
      "source": [
        "# Athletic Club"
      ]
    },
    {
      "cell_type": "markdown",
      "metadata": {
        "id": "Iv-ClOuKxP6Y"
      },
      "source": [
        "2020-2021"
      ]
    },
    {
      "cell_type": "code",
      "execution_count": null,
      "metadata": {
        "collapsed": true,
        "id": "f3yrNwVrxmSq"
      },
      "outputs": [],
      "source": [
        "import pandas as pd6\n",
        "df = pd.read_html('https://fbref.com/en/squads/2b390eca/2020-2021/Athletic-Club-Stats', attrs = {\"id\":\"stats_standard_12\"})[0]\n",
        "df.head()\n",
        "\n"
      ]
    },
    {
      "cell_type": "code",
      "execution_count": null,
      "metadata": {
        "id": "lnZKbZJDxmSr"
      },
      "outputs": [],
      "source": [
        "df.columns = ['_'.join(col).strip() for col in df.columns.values]\n",
        "\n"
      ]
    },
    {
      "cell_type": "code",
      "execution_count": null,
      "metadata": {
        "collapsed": true,
        "id": "KBRTnPYxxmSr"
      },
      "outputs": [],
      "source": [
        "df.head()\n",
        "\n"
      ]
    },
    {
      "cell_type": "code",
      "execution_count": null,
      "metadata": {
        "id": "qKwy5PZGxmSr"
      },
      "outputs": [],
      "source": [
        "df.to_csv('AC2020-2021.csv')"
      ]
    },
    {
      "cell_type": "markdown",
      "metadata": {
        "id": "A6LGIJ2MxYZW"
      },
      "source": [
        "2021-2022"
      ]
    },
    {
      "cell_type": "code",
      "execution_count": null,
      "metadata": {
        "collapsed": true,
        "id": "34rkznSDxv7B"
      },
      "outputs": [],
      "source": [
        "import pandas as pd6\n",
        "df = pd.read_html('https://fbref.com/en/squads/2b390eca/2021-2022/Athletic-Club-Stats', attrs = {\"id\":\"stats_standard_12\"})[0]\n",
        "df.head()\n",
        "\n"
      ]
    },
    {
      "cell_type": "code",
      "execution_count": null,
      "metadata": {
        "id": "XtgrPvojxv7C"
      },
      "outputs": [],
      "source": [
        "df.columns = ['_'.join(col).strip() for col in df.columns.values]\n",
        "\n"
      ]
    },
    {
      "cell_type": "code",
      "execution_count": null,
      "metadata": {
        "collapsed": true,
        "id": "V_rTge0Exv7C"
      },
      "outputs": [],
      "source": [
        "df.head()\n",
        "\n"
      ]
    },
    {
      "cell_type": "code",
      "execution_count": null,
      "metadata": {
        "id": "QQSMuE6Uxv7C"
      },
      "outputs": [],
      "source": [
        "df.to_csv('AC2021-2022.csv')"
      ]
    },
    {
      "cell_type": "markdown",
      "metadata": {
        "id": "U7BmeRkKxYcw"
      },
      "source": [
        "2022-2023"
      ]
    },
    {
      "cell_type": "code",
      "execution_count": null,
      "metadata": {
        "collapsed": true,
        "id": "ILg4psgAxymv"
      },
      "outputs": [],
      "source": [
        "import pandas as pd6\n",
        "df = pd.read_html('https://fbref.com/en/squads/2b390eca/2022-2023/Athletic-Club-Stats', attrs = {\"id\":\"stats_standard_12\"})[0]\n",
        "df.head()\n",
        "\n"
      ]
    },
    {
      "cell_type": "code",
      "execution_count": null,
      "metadata": {
        "id": "4uSabh-fxymv"
      },
      "outputs": [],
      "source": [
        "df.columns = ['_'.join(col).strip() for col in df.columns.values]\n",
        "\n"
      ]
    },
    {
      "cell_type": "code",
      "execution_count": null,
      "metadata": {
        "collapsed": true,
        "id": "jGR3tEzPxymv"
      },
      "outputs": [],
      "source": [
        "df.head()\n",
        "\n"
      ]
    },
    {
      "cell_type": "code",
      "execution_count": null,
      "metadata": {
        "id": "q0EBMxgxxymw"
      },
      "outputs": [],
      "source": [
        "df.to_csv('Ac2022-2023.csv')"
      ]
    },
    {
      "cell_type": "markdown",
      "metadata": {
        "id": "cmd3VQkmxYgY"
      },
      "source": [
        "2023-2024"
      ]
    },
    {
      "cell_type": "code",
      "execution_count": null,
      "metadata": {
        "collapsed": true,
        "id": "Xjzcjk4QxzIY"
      },
      "outputs": [],
      "source": [
        "import pandas as pd6\n",
        "df = pd.read_html('https://fbref.com/en/squads/2b390eca/2023-2024/Athletic-Club-Stats', attrs = {\"id\":\"stats_standard_12\"})[0]\n",
        "df.head()\n",
        "\n"
      ]
    },
    {
      "cell_type": "code",
      "execution_count": null,
      "metadata": {
        "id": "AAiheWnTxzIZ"
      },
      "outputs": [],
      "source": [
        "df.columns = ['_'.join(col).strip() for col in df.columns.values]\n",
        "\n"
      ]
    },
    {
      "cell_type": "code",
      "execution_count": null,
      "metadata": {
        "collapsed": true,
        "id": "gTGhkblnxzIZ"
      },
      "outputs": [],
      "source": [
        "df.head()\n",
        "\n"
      ]
    },
    {
      "cell_type": "code",
      "execution_count": null,
      "metadata": {
        "id": "aSbk_4L2xzIa"
      },
      "outputs": [],
      "source": [
        "df.to_csv('AC2023-2024.csv')"
      ]
    },
    {
      "cell_type": "markdown",
      "metadata": {
        "id": "J8LP-Lgb3Znt"
      },
      "source": [
        " # Mallorca not there "
      ]
    },
    {
      "cell_type": "markdown",
      "metadata": {
        "id": "Kqu1-NV33aA9"
      },
      "source": [
        " 2020 - 2021"
      ]
    },
    {
      "cell_type": "code",
      "execution_count": null,
      "metadata": {
        "collapsed": true,
        "id": "tmUKN5cW5H2J"
      },
      "outputs": [],
      "source": [
        "import pandas as pd6\n",
        "df = pd.read_html('https://fbref.com/en/squads/2aa12281/2020-2021/Mallorca-Stats', attrs = {\"id\":\"stats_standard_12\"})[0]\n",
        "df.head()\n",
        "\n"
      ]
    },
    {
      "cell_type": "code",
      "execution_count": null,
      "metadata": {
        "id": "GGn6yXE45H2K"
      },
      "outputs": [],
      "source": [
        "df.columns = ['_'.join(col).strip() for col in df.columns.values]\n",
        "\n"
      ]
    },
    {
      "cell_type": "code",
      "execution_count": null,
      "metadata": {
        "collapsed": true,
        "id": "lZWRpeNl5H2L"
      },
      "outputs": [],
      "source": [
        "df.head()\n",
        "\n"
      ]
    },
    {
      "cell_type": "code",
      "execution_count": null,
      "metadata": {
        "id": "Qab9VcDc5H2L"
      },
      "outputs": [],
      "source": [
        "df.to_csv('Mallorca2020-2021.csv')"
      ]
    },
    {
      "cell_type": "markdown",
      "metadata": {
        "id": "SRnf-wwX45xC"
      },
      "source": [
        "2021-2022"
      ]
    },
    {
      "cell_type": "code",
      "execution_count": null,
      "metadata": {
        "collapsed": true,
        "id": "MTo2SaYZ5Tst"
      },
      "outputs": [],
      "source": [
        "import pandas as pd6\n",
        "df = pd.read_html('https://fbref.com/en/squads/2aa12281/2021-2022/Mallorca-Stats', attrs = {\"id\":\"stats_standard_12\"})[0]\n",
        "df.head()\n",
        "\n"
      ]
    },
    {
      "cell_type": "code",
      "execution_count": null,
      "metadata": {
        "id": "DETdzilb5Tsu"
      },
      "outputs": [],
      "source": [
        "df.columns = ['_'.join(col).strip() for col in df.columns.values]\n",
        "\n"
      ]
    },
    {
      "cell_type": "code",
      "execution_count": null,
      "metadata": {
        "collapsed": true,
        "id": "I8SIYUtp5Tsu"
      },
      "outputs": [],
      "source": [
        "df.head()\n",
        "\n"
      ]
    },
    {
      "cell_type": "code",
      "execution_count": null,
      "metadata": {
        "colab": {
          "background_save": true
        },
        "id": "F3sdEfMh5Tsu"
      },
      "outputs": [],
      "source": [
        "df.to_csv('Mallorca2021-2022.csv')"
      ]
    },
    {
      "cell_type": "markdown",
      "metadata": {
        "id": "hv7xx9jC451R"
      },
      "source": [
        "2022-2023"
      ]
    },
    {
      "cell_type": "code",
      "execution_count": null,
      "metadata": {
        "collapsed": true,
        "id": "l1FxCnGR5UkL"
      },
      "outputs": [],
      "source": [
        "import pandas as pd6\n",
        "df = pd.read_html('https://fbref.com/en/squads/2aa12281/2022-2023/Mallorca-Stats', attrs = {\"id\":\"stats_standard_12\"})[0]\n",
        "df.head()\n",
        "\n"
      ]
    },
    {
      "cell_type": "code",
      "execution_count": null,
      "metadata": {
        "colab": {
          "background_save": true
        },
        "id": "NgeBGXGa5UkM"
      },
      "outputs": [],
      "source": [
        "df.columns = ['_'.join(col).strip() for col in df.columns.values]\n",
        "\n"
      ]
    },
    {
      "cell_type": "code",
      "execution_count": null,
      "metadata": {
        "colab": {
          "background_save": true
        },
        "collapsed": true,
        "id": "wOQ3bZkz5UkM"
      },
      "outputs": [],
      "source": [
        "df.head()\n",
        "\n"
      ]
    },
    {
      "cell_type": "code",
      "execution_count": null,
      "metadata": {
        "colab": {
          "background_save": true
        },
        "id": "NgZmXZAc5UkN"
      },
      "outputs": [],
      "source": [
        "df.to_csv('Mallorca2022-2023.csv')"
      ]
    },
    {
      "cell_type": "markdown",
      "metadata": {
        "id": "8OHwlsE_46So"
      },
      "source": [
        "2023-2024"
      ]
    },
    {
      "cell_type": "code",
      "execution_count": null,
      "metadata": {
        "colab": {
          "background_save": true
        },
        "collapsed": true,
        "id": "GNpu-s7i5VS8"
      },
      "outputs": [],
      "source": [
        "import pandas as pd6\n",
        "df = pd.read_html('https://fbref.com/en/squads/2aa12281/2023-2024/Mallorca-Stats', attrs = {\"id\":\"stats_standard_12\"})[0]\n",
        "df.head()\n",
        "\n"
      ]
    },
    {
      "cell_type": "code",
      "execution_count": null,
      "metadata": {
        "colab": {
          "background_save": true
        },
        "id": "dS8ZEY1K5VS9"
      },
      "outputs": [],
      "source": [
        "df.columns = ['_'.join(col).strip() for col in df.columns.values]\n",
        "\n"
      ]
    },
    {
      "cell_type": "code",
      "execution_count": null,
      "metadata": {
        "colab": {
          "background_save": true
        },
        "collapsed": true,
        "id": "F8tzc1Gc5VS9"
      },
      "outputs": [],
      "source": [
        "df.head()\n",
        "\n"
      ]
    },
    {
      "cell_type": "code",
      "execution_count": null,
      "metadata": {
        "colab": {
          "background_save": true
        },
        "id": "0xMOEJ4X5VS-"
      },
      "outputs": [],
      "source": [
        "df.to_csv('Mallorca2023-2024.csv')"
      ]
    },
    {
      "cell_type": "markdown",
      "metadata": {
        "id": "e40LjdnK5gU3"
      },
      "source": [
        "# Rayo Vallecano not there"
      ]
    },
    {
      "cell_type": "markdown",
      "metadata": {
        "id": "ajtg3qJz5y4g"
      },
      "source": [
        "2020-2021"
      ]
    },
    {
      "cell_type": "code",
      "execution_count": null,
      "metadata": {
        "colab": {
          "background_save": true
        },
        "collapsed": true,
        "id": "O8m_YvWx58E5"
      },
      "outputs": [],
      "source": [
        "import pandas as pd6\n",
        "df = pd.read_html('https://fbref.com/en/squads/98e8af82/2020-2021/Rayo-Vallecano-Stats', attrs = {\"id\":\"stats_standard_12\"})[0]\n",
        "df.head()\n",
        "\n"
      ]
    },
    {
      "cell_type": "code",
      "execution_count": null,
      "metadata": {
        "colab": {
          "background_save": true
        },
        "id": "DF2Y4Ooi58E6"
      },
      "outputs": [],
      "source": [
        "df.columns = ['_'.join(col).strip() for col in df.columns.values]\n",
        "\n"
      ]
    },
    {
      "cell_type": "code",
      "execution_count": null,
      "metadata": {
        "colab": {
          "background_save": true
        },
        "collapsed": true,
        "id": "iRA3MGoW58E6"
      },
      "outputs": [],
      "source": [
        "df.head()\n",
        "\n"
      ]
    },
    {
      "cell_type": "code",
      "execution_count": null,
      "metadata": {
        "colab": {
          "background_save": true
        },
        "id": "YC0tX7lL58E6"
      },
      "outputs": [],
      "source": [
        "df.to_csv('RV2020-2021.csv')"
      ]
    },
    {
      "cell_type": "markdown",
      "metadata": {
        "id": "LGeSvv4O5y_c"
      },
      "source": [
        "2021-2022"
      ]
    },
    {
      "cell_type": "code",
      "execution_count": null,
      "metadata": {
        "colab": {
          "background_save": true
        },
        "collapsed": true,
        "id": "BWtXT8AB6G8I"
      },
      "outputs": [],
      "source": [
        "import pandas as pd6\n",
        "df = pd.read_html('https://fbref.com/en/squads/98e8af82/2021-2022/Rayo-Vallecano-Stats', attrs = {\"id\":\"stats_standard_12\"})[0]\n",
        "df.head()\n",
        "\n"
      ]
    },
    {
      "cell_type": "code",
      "execution_count": null,
      "metadata": {
        "colab": {
          "background_save": true
        },
        "id": "YI3nv-cU6G8J"
      },
      "outputs": [],
      "source": [
        "df.columns = ['_'.join(col).strip() for col in df.columns.values]\n",
        "\n"
      ]
    },
    {
      "cell_type": "code",
      "execution_count": null,
      "metadata": {
        "colab": {
          "background_save": true
        },
        "collapsed": true,
        "id": "Km-zYLLk6G8K"
      },
      "outputs": [],
      "source": [
        "df.head()\n",
        "\n"
      ]
    },
    {
      "cell_type": "code",
      "execution_count": null,
      "metadata": {
        "colab": {
          "background_save": true
        },
        "id": "J6SWEsOG6G8K"
      },
      "outputs": [],
      "source": [
        "df.to_csv('RV2021-2022.csv')"
      ]
    },
    {
      "cell_type": "markdown",
      "metadata": {
        "id": "JBs9Xpki5zEV"
      },
      "source": [
        "2022-2023"
      ]
    },
    {
      "cell_type": "code",
      "execution_count": null,
      "metadata": {
        "colab": {
          "background_save": true
        },
        "collapsed": true,
        "id": "KOPzxR916K6b"
      },
      "outputs": [],
      "source": [
        "import pandas as pd6\n",
        "df = pd.read_html('https://fbref.com/en/squads/98e8af82/2022-2023/Rayo-Vallecano-Stats', attrs = {\"id\":\"stats_standard_12\"})[0]\n",
        "df.head()\n",
        "\n"
      ]
    },
    {
      "cell_type": "code",
      "execution_count": null,
      "metadata": {
        "colab": {
          "background_save": true
        },
        "id": "Ve7M-Off6K6b"
      },
      "outputs": [],
      "source": [
        "df.columns = ['_'.join(col).strip() for col in df.columns.values]\n",
        "\n"
      ]
    },
    {
      "cell_type": "code",
      "execution_count": null,
      "metadata": {
        "colab": {
          "background_save": true
        },
        "collapsed": true,
        "id": "fiNIx6Ov6K6c"
      },
      "outputs": [],
      "source": [
        "df.head()\n",
        "\n"
      ]
    },
    {
      "cell_type": "code",
      "execution_count": null,
      "metadata": {
        "colab": {
          "background_save": true
        },
        "id": "EkNwmH7Y6K6c"
      },
      "outputs": [],
      "source": [
        "df.to_csv('RV2022-2023.csv')"
      ]
    },
    {
      "cell_type": "markdown",
      "metadata": {
        "id": "wUZOkaXE5zJ7"
      },
      "source": [
        "2023-2024"
      ]
    },
    {
      "cell_type": "code",
      "execution_count": null,
      "metadata": {
        "colab": {
          "background_save": true
        },
        "collapsed": true,
        "id": "9JzSrzZ46Ozq"
      },
      "outputs": [],
      "source": [
        "import pandas as pd6\n",
        "df = pd.read_html('https://fbref.com/en/squads/98e8af82/2023-2024/Rayo-Vallecano-Stats', attrs = {\"id\":\"stats_standard_12\"})[0]\n",
        "df.head()\n",
        "\n"
      ]
    },
    {
      "cell_type": "code",
      "execution_count": null,
      "metadata": {
        "colab": {
          "background_save": true
        },
        "id": "kc4W2Jm26Ozr"
      },
      "outputs": [],
      "source": [
        "df.columns = ['_'.join(col).strip() for col in df.columns.values]\n",
        "\n"
      ]
    },
    {
      "cell_type": "code",
      "execution_count": null,
      "metadata": {
        "colab": {
          "background_save": true
        },
        "collapsed": true,
        "id": "PoBZryeX6Ozr"
      },
      "outputs": [],
      "source": [
        "df.head()\n",
        "\n"
      ]
    },
    {
      "cell_type": "code",
      "execution_count": null,
      "metadata": {
        "colab": {
          "background_save": true
        },
        "id": "wt_LaTeG6Ozs"
      },
      "outputs": [],
      "source": [
        "df.to_csv('RV2023-2024.csv')"
      ]
    },
    {
      "cell_type": "markdown",
      "metadata": {
        "id": "-3V8DA9y6nSP"
      },
      "source": [
        "# Celta Vigo"
      ]
    },
    {
      "cell_type": "markdown",
      "metadata": {
        "id": "Xs1JRkdu6rlL"
      },
      "source": [
        "2020-2021"
      ]
    },
    {
      "cell_type": "code",
      "execution_count": null,
      "metadata": {
        "colab": {
          "background_save": true
        },
        "collapsed": true,
        "id": "2owCSevm6zLm"
      },
      "outputs": [],
      "source": [
        "import pandas as pd6\n",
        "df = pd.read_html('https://fbref.com/en/squads/f25da7fb/2020-2021/Celta-Vigo-Stats', attrs = {\"id\":\"stats_standard_12\"})[0]\n",
        "df.head()\n",
        "\n"
      ]
    },
    {
      "cell_type": "code",
      "execution_count": null,
      "metadata": {
        "colab": {
          "background_save": true
        },
        "id": "_Z-Eg1lA6zLn"
      },
      "outputs": [],
      "source": [
        "df.columns = ['_'.join(col).strip() for col in df.columns.values]\n",
        "\n"
      ]
    },
    {
      "cell_type": "code",
      "execution_count": null,
      "metadata": {
        "colab": {
          "background_save": true
        },
        "collapsed": true,
        "id": "4ZSvJ4Vq6zLn"
      },
      "outputs": [],
      "source": [
        "df.head()\n",
        "\n"
      ]
    },
    {
      "cell_type": "code",
      "execution_count": null,
      "metadata": {
        "colab": {
          "background_save": true
        },
        "id": "ra-B6H366zLn"
      },
      "outputs": [],
      "source": [
        "df.to_csv('CV2020-2021.csv')"
      ]
    },
    {
      "cell_type": "markdown",
      "metadata": {
        "id": "u6fbZ-ZF6rr2"
      },
      "source": [
        "2021-2022"
      ]
    },
    {
      "cell_type": "code",
      "execution_count": null,
      "metadata": {
        "colab": {
          "background_save": true
        },
        "collapsed": true,
        "id": "8f1h6iKy68Am"
      },
      "outputs": [],
      "source": [
        "import pandas as pd6\n",
        "df = pd.read_html('https://fbref.com/en/squads/f25da7fb/2021-2022/Celta-Vigo-Stats', attrs = {\"id\":\"stats_standard_12\"})[0]\n",
        "df.head()\n",
        "\n"
      ]
    },
    {
      "cell_type": "code",
      "execution_count": null,
      "metadata": {
        "colab": {
          "background_save": true
        },
        "id": "0ZTMrJ6q68Am"
      },
      "outputs": [],
      "source": [
        "df.columns = ['_'.join(col).strip() for col in df.columns.values]\n",
        "\n"
      ]
    },
    {
      "cell_type": "code",
      "execution_count": null,
      "metadata": {
        "colab": {
          "background_save": true
        },
        "collapsed": true,
        "id": "WPEA_76O68Am"
      },
      "outputs": [],
      "source": [
        "df.head()\n",
        "\n"
      ]
    },
    {
      "cell_type": "code",
      "execution_count": null,
      "metadata": {
        "colab": {
          "background_save": true
        },
        "id": "7BqIe9hZ68An"
      },
      "outputs": [],
      "source": [
        "df.to_csv('CV2021-2022.csv')"
      ]
    },
    {
      "cell_type": "markdown",
      "metadata": {
        "id": "e7Y-ECiy6rwW"
      },
      "source": [
        "2022-2023"
      ]
    },
    {
      "cell_type": "code",
      "execution_count": null,
      "metadata": {
        "colab": {
          "background_save": true
        },
        "collapsed": true,
        "id": "avQZBYD26822"
      },
      "outputs": [],
      "source": [
        "import pandas as pd6\n",
        "df = pd.read_html('https://fbref.com/en/squads/f25da7fb/2022-2023/Celta-Vigo-Stats', attrs = {\"id\":\"stats_standard_12\"})[0]\n",
        "df.head()\n",
        "\n"
      ]
    },
    {
      "cell_type": "code",
      "execution_count": null,
      "metadata": {
        "colab": {
          "background_save": true
        },
        "id": "v1yZaEEp6823"
      },
      "outputs": [],
      "source": [
        "df.columns = ['_'.join(col).strip() for col in df.columns.values]\n",
        "\n"
      ]
    },
    {
      "cell_type": "code",
      "execution_count": null,
      "metadata": {
        "colab": {
          "background_save": true
        },
        "collapsed": true,
        "id": "lP3cOYZp6823"
      },
      "outputs": [],
      "source": [
        "df.head()\n",
        "\n"
      ]
    },
    {
      "cell_type": "code",
      "execution_count": null,
      "metadata": {
        "colab": {
          "background_save": true
        },
        "id": "ADEXhr3r6823"
      },
      "outputs": [],
      "source": [
        "df.to_csv('CV2022-2023.csv')"
      ]
    },
    {
      "cell_type": "markdown",
      "metadata": {
        "id": "nOemea_16sL-"
      },
      "source": [
        "2023-2024"
      ]
    },
    {
      "cell_type": "code",
      "execution_count": null,
      "metadata": {
        "colab": {
          "background_save": true
        },
        "collapsed": true,
        "id": "grswjEby69pg"
      },
      "outputs": [],
      "source": [
        "import pandas as pd6\n",
        "df = pd.read_html('https://fbref.com/en/squads/f25da7fb/2023-2024/Celta-Vigo-Stats', attrs = {\"id\":\"stats_standard_12\"})[0]\n",
        "df.head()\n",
        "\n"
      ]
    },
    {
      "cell_type": "code",
      "execution_count": null,
      "metadata": {
        "colab": {
          "background_save": true
        },
        "id": "uENITFwb69pg"
      },
      "outputs": [],
      "source": [
        "df.columns = ['_'.join(col).strip() for col in df.columns.values]\n",
        "\n"
      ]
    },
    {
      "cell_type": "code",
      "execution_count": null,
      "metadata": {
        "colab": {
          "background_save": true
        },
        "collapsed": true,
        "id": "dZvY8QZI69ph"
      },
      "outputs": [],
      "source": [
        "df.head()\n",
        "\n"
      ]
    },
    {
      "cell_type": "code",
      "execution_count": null,
      "metadata": {
        "colab": {
          "background_save": true
        },
        "id": "SqTeiARh69ph"
      },
      "outputs": [],
      "source": [
        "df.to_csv('CV2023-2024.csv')"
      ]
    },
    {
      "cell_type": "markdown",
      "metadata": {
        "id": "2pNhsPsJ7Gv8"
      },
      "source": [
        "# Real Betis"
      ]
    },
    {
      "cell_type": "markdown",
      "metadata": {
        "id": "-ZggzIj_7NpA"
      },
      "source": [
        "2020-2021"
      ]
    },
    {
      "cell_type": "code",
      "execution_count": null,
      "metadata": {
        "colab": {
          "background_save": true
        },
        "collapsed": true,
        "id": "tkYGIsWl7Yg_"
      },
      "outputs": [],
      "source": [
        "import pandas as pd6\n",
        "df = pd.read_html('https://fbref.com/en/squads/fc536746/2020-2021/Real-Betis-Stats', attrs = {\"id\":\"stats_standard_12\"})[0]\n",
        "df.head()\n",
        "\n"
      ]
    },
    {
      "cell_type": "code",
      "execution_count": null,
      "metadata": {
        "colab": {
          "background_save": true
        },
        "id": "oSvyBouw7YhB"
      },
      "outputs": [],
      "source": [
        "df.columns = ['_'.join(col).strip() for col in df.columns.values]\n",
        "\n"
      ]
    },
    {
      "cell_type": "code",
      "execution_count": null,
      "metadata": {
        "colab": {
          "background_save": true
        },
        "collapsed": true,
        "id": "uImqjLIH7YhB"
      },
      "outputs": [],
      "source": [
        "df.head()\n",
        "\n"
      ]
    },
    {
      "cell_type": "code",
      "execution_count": null,
      "metadata": {
        "colab": {
          "background_save": true
        },
        "id": "aEpSGvaN7YhC"
      },
      "outputs": [],
      "source": [
        "df.to_csv('RB2020-2021.csv')"
      ]
    },
    {
      "cell_type": "markdown",
      "metadata": {
        "id": "vdBJXbtJ7NvH"
      },
      "source": [
        "2021-2022"
      ]
    },
    {
      "cell_type": "code",
      "execution_count": null,
      "metadata": {
        "colab": {
          "background_save": true
        },
        "collapsed": true,
        "id": "2IG6bwge7jb3"
      },
      "outputs": [],
      "source": [
        "import pandas as pd6\n",
        "df = pd.read_html('https://fbref.com/en/squads/fc536746/2021-2022/Real-Betis-Stats', attrs = {\"id\":\"stats_standard_12\"})[0]\n",
        "df.head()\n",
        "\n"
      ]
    },
    {
      "cell_type": "code",
      "execution_count": null,
      "metadata": {
        "colab": {
          "background_save": true
        },
        "id": "cT83jg917jb4"
      },
      "outputs": [],
      "source": [
        "df.columns = ['_'.join(col).strip() for col in df.columns.values]\n",
        "\n"
      ]
    },
    {
      "cell_type": "code",
      "execution_count": null,
      "metadata": {
        "colab": {
          "background_save": true
        },
        "collapsed": true,
        "id": "qIjXfyq77jb5"
      },
      "outputs": [],
      "source": [
        "df.head()\n",
        "\n"
      ]
    },
    {
      "cell_type": "code",
      "execution_count": null,
      "metadata": {
        "colab": {
          "background_save": true
        },
        "id": "pxRR1yNi7jb5"
      },
      "outputs": [],
      "source": [
        "df.to_csv('RB2021-2022.csv')"
      ]
    },
    {
      "cell_type": "markdown",
      "metadata": {
        "id": "OHi6435v7N0O"
      },
      "source": [
        "2022-2023"
      ]
    },
    {
      "cell_type": "code",
      "execution_count": null,
      "metadata": {
        "colab": {
          "background_save": true
        },
        "collapsed": true,
        "id": "KKQ2JvMc7oD4"
      },
      "outputs": [],
      "source": [
        "import pandas as pd6\n",
        "df = pd.read_html('https://fbref.com/en/squads/fc536746/2022-2023/Real-Betis-Stats', attrs = {\"id\":\"stats_standard_12\"})[0]\n",
        "df.head()\n",
        "\n"
      ]
    },
    {
      "cell_type": "code",
      "execution_count": null,
      "metadata": {
        "colab": {
          "background_save": true
        },
        "id": "R2HdGFaC7oD5"
      },
      "outputs": [],
      "source": [
        "df.columns = ['_'.join(col).strip() for col in df.columns.values]\n",
        "\n"
      ]
    },
    {
      "cell_type": "code",
      "execution_count": null,
      "metadata": {
        "colab": {
          "background_save": true
        },
        "collapsed": true,
        "id": "5gZy23Yk7oD5"
      },
      "outputs": [],
      "source": [
        "df.head()\n",
        "\n"
      ]
    },
    {
      "cell_type": "code",
      "execution_count": null,
      "metadata": {
        "colab": {
          "background_save": true
        },
        "id": "RFmTvPSW7oD5"
      },
      "outputs": [],
      "source": [
        "df.to_csv('RB2022-2023.csv')"
      ]
    },
    {
      "cell_type": "markdown",
      "metadata": {
        "id": "gRexn12T7OPH"
      },
      "source": [
        "2023-2024"
      ]
    },
    {
      "cell_type": "code",
      "execution_count": null,
      "metadata": {
        "colab": {
          "background_save": true
        },
        "collapsed": true,
        "id": "du5wS0fh7scX"
      },
      "outputs": [],
      "source": [
        "import pandas as pd6\n",
        "df = pd.read_html('https://fbref.com/en/squads/fc536746/2023-2024/Real-Betis-Stats', attrs = {\"id\":\"stats_standard_12\"})[0]\n",
        "df.head()\n",
        "\n"
      ]
    },
    {
      "cell_type": "code",
      "execution_count": null,
      "metadata": {
        "colab": {
          "background_save": true
        },
        "id": "17aRoUBq7scX"
      },
      "outputs": [],
      "source": [
        "df.columns = ['_'.join(col).strip() for col in df.columns.values]\n",
        "\n"
      ]
    },
    {
      "cell_type": "code",
      "execution_count": null,
      "metadata": {
        "colab": {
          "background_save": true
        },
        "collapsed": true,
        "id": "5cW2Drxz7scY"
      },
      "outputs": [],
      "source": [
        "df.head()\n",
        "\n"
      ]
    },
    {
      "cell_type": "code",
      "execution_count": null,
      "metadata": {
        "colab": {
          "background_save": true
        },
        "id": "KgXWmMbS7scY"
      },
      "outputs": [],
      "source": [
        "df.to_csv('RB2023-2024.csv')"
      ]
    },
    {
      "cell_type": "markdown",
      "metadata": {
        "id": "ODz_U-Gt7w9A"
      },
      "source": [
        "# Girona Stats not there"
      ]
    },
    {
      "cell_type": "markdown",
      "metadata": {
        "id": "lGhqSb857-PJ"
      },
      "source": [
        "2020-2021"
      ]
    },
    {
      "cell_type": "code",
      "execution_count": null,
      "metadata": {
        "colab": {
          "background_save": true
        },
        "collapsed": true,
        "id": "8sYLPsEc8Xs9"
      },
      "outputs": [],
      "source": [
        "import pandas as pd6\n",
        "df = pd.read_html('https://fbref.com/en/squads/9024a00a/2020-2021/Girona-Stats', attrs = {\"id\":\"stats_standard_12\"})[0]\n",
        "df.head()\n",
        "\n"
      ]
    },
    {
      "cell_type": "code",
      "execution_count": null,
      "metadata": {
        "colab": {
          "background_save": true
        },
        "id": "n8OJt6I_8Xs-"
      },
      "outputs": [],
      "source": [
        "df.columns = ['_'.join(col).strip() for col in df.columns.values]\n",
        "\n"
      ]
    },
    {
      "cell_type": "code",
      "execution_count": null,
      "metadata": {
        "colab": {
          "background_save": true
        },
        "collapsed": true,
        "id": "V8NJRkft8Xs-"
      },
      "outputs": [],
      "source": [
        "df.head()\n",
        "\n"
      ]
    },
    {
      "cell_type": "code",
      "execution_count": null,
      "metadata": {
        "colab": {
          "background_save": true
        },
        "id": "8u5dc4Hw8Xs-"
      },
      "outputs": [],
      "source": [
        "df.to_csv('Girona2020-2021.csv')"
      ]
    },
    {
      "cell_type": "markdown",
      "metadata": {
        "id": "FGgr97pJ7-VN"
      },
      "source": [
        "2021-2022"
      ]
    },
    {
      "cell_type": "code",
      "execution_count": null,
      "metadata": {
        "colab": {
          "background_save": true
        },
        "collapsed": true,
        "id": "oj1pIyhP8qMF"
      },
      "outputs": [],
      "source": [
        "import pandas as pd6\n",
        "df = pd.read_html('https://fbref.com/en/squads/9024a00a/2021-2022/Girona-Stats', attrs = {\"id\":\"stats_standard_12\"})[0]\n",
        "df.head()\n",
        "\n"
      ]
    },
    {
      "cell_type": "code",
      "execution_count": null,
      "metadata": {
        "colab": {
          "background_save": true
        },
        "id": "h06rX_ZW8qMG"
      },
      "outputs": [],
      "source": [
        "df.columns = ['_'.join(col).strip() for col in df.columns.values]\n",
        "\n"
      ]
    },
    {
      "cell_type": "code",
      "execution_count": null,
      "metadata": {
        "colab": {
          "background_save": true
        },
        "collapsed": true,
        "id": "cgTsaE3X8qMG"
      },
      "outputs": [],
      "source": [
        "df.head()\n",
        "\n"
      ]
    },
    {
      "cell_type": "code",
      "execution_count": null,
      "metadata": {
        "colab": {
          "background_save": true
        },
        "id": "M2Z4-U5j8qMG"
      },
      "outputs": [],
      "source": [
        "df.to_csv('Girona2021-2022.csv')"
      ]
    },
    {
      "cell_type": "markdown",
      "metadata": {
        "id": "rhFdultk7-aP"
      },
      "source": [
        "2022-2023"
      ]
    },
    {
      "cell_type": "code",
      "execution_count": null,
      "metadata": {
        "colab": {
          "background_save": true
        },
        "collapsed": true,
        "id": "LwtUb0se8ubn"
      },
      "outputs": [],
      "source": [
        "import pandas as pd6\n",
        "df = pd.read_html('https://fbref.com/en/squads/9024a00a/2022-2023/Girona-Stats', attrs = {\"id\":\"stats_standard_12\"})[0]\n",
        "df.head()\n",
        "\n"
      ]
    },
    {
      "cell_type": "code",
      "execution_count": null,
      "metadata": {
        "colab": {
          "background_save": true
        },
        "id": "pON2DlnE8ubo"
      },
      "outputs": [],
      "source": [
        "df.columns = ['_'.join(col).strip() for col in df.columns.values]\n",
        "\n"
      ]
    },
    {
      "cell_type": "code",
      "execution_count": null,
      "metadata": {
        "colab": {
          "background_save": true
        },
        "collapsed": true,
        "id": "cjHzlwTN8ubo"
      },
      "outputs": [],
      "source": [
        "df.head()\n",
        "\n"
      ]
    },
    {
      "cell_type": "code",
      "execution_count": null,
      "metadata": {
        "colab": {
          "background_save": true
        },
        "id": "4EfmfG6Y8ubo"
      },
      "outputs": [],
      "source": [
        "df.to_csv('Girona2022-2023.csv')"
      ]
    },
    {
      "cell_type": "markdown",
      "metadata": {
        "id": "6zSOJabq7-fI"
      },
      "source": [
        "2023-2024"
      ]
    },
    {
      "cell_type": "code",
      "execution_count": null,
      "metadata": {
        "colab": {
          "background_save": true
        },
        "collapsed": true,
        "id": "YL-_hhxS8yto"
      },
      "outputs": [],
      "source": [
        "import pandas as pd6\n",
        "df = pd.read_html('https://fbref.com/en/squads/9024a00a/2023-2024/Girona-Stats', attrs = {\"id\":\"stats_standard_12\"})[0]\n",
        "df.head()\n",
        "\n"
      ]
    },
    {
      "cell_type": "code",
      "execution_count": null,
      "metadata": {
        "colab": {
          "background_save": true
        },
        "id": "tMnHCMs18ytp"
      },
      "outputs": [],
      "source": [
        "df.columns = ['_'.join(col).strip() for col in df.columns.values]\n",
        "\n"
      ]
    },
    {
      "cell_type": "code",
      "execution_count": null,
      "metadata": {
        "colab": {
          "background_save": true
        },
        "collapsed": true,
        "id": "pQe_PekS8ytp"
      },
      "outputs": [],
      "source": [
        "df.head()\n",
        "\n"
      ]
    },
    {
      "cell_type": "code",
      "execution_count": null,
      "metadata": {
        "colab": {
          "background_save": true
        },
        "id": "0fHGihoB8ytp"
      },
      "outputs": [],
      "source": [
        "df.to_csv('Girona2023-2024.csv')"
      ]
    },
    {
      "cell_type": "markdown",
      "metadata": {
        "id": "ArgkFalv84Yk"
      },
      "source": [
        "# Sevilla"
      ]
    },
    {
      "cell_type": "markdown",
      "metadata": {
        "id": "fMrDepFq9C9g"
      },
      "source": [
        "2020-2021"
      ]
    },
    {
      "cell_type": "code",
      "execution_count": null,
      "metadata": {
        "colab": {
          "background_save": true
        },
        "collapsed": true,
        "id": "hZTihKEC9OMR"
      },
      "outputs": [],
      "source": [
        "import pandas as pd6\n",
        "df = pd.read_html('https://fbref.com/en/squads/ad2be733/2020-2021/Sevilla-Stats', attrs = {\"id\":\"stats_standard_12\"})[0]\n",
        "df.head()\n",
        "\n"
      ]
    },
    {
      "cell_type": "code",
      "execution_count": null,
      "metadata": {
        "colab": {
          "background_save": true
        },
        "id": "VP0EPBRL9OMS"
      },
      "outputs": [],
      "source": [
        "df.columns = ['_'.join(col).strip() for col in df.columns.values]\n",
        "\n"
      ]
    },
    {
      "cell_type": "code",
      "execution_count": null,
      "metadata": {
        "colab": {
          "background_save": true
        },
        "collapsed": true,
        "id": "ctltoTz49OMS"
      },
      "outputs": [],
      "source": [
        "df.head()\n",
        "\n"
      ]
    },
    {
      "cell_type": "code",
      "execution_count": null,
      "metadata": {
        "colab": {
          "background_save": true
        },
        "id": "wX2j7DPk9OMT"
      },
      "outputs": [],
      "source": [
        "df.to_csv('Sevilla2020-2021.csv')"
      ]
    },
    {
      "cell_type": "markdown",
      "metadata": {
        "id": "g7vkTgJe9DEh"
      },
      "source": [
        "2021-2022"
      ]
    },
    {
      "cell_type": "code",
      "execution_count": null,
      "metadata": {
        "colab": {
          "background_save": true
        },
        "collapsed": true,
        "id": "7okN5YoC9YFu"
      },
      "outputs": [],
      "source": [
        "import pandas as pd6\n",
        "df = pd.read_html('https://fbref.com/en/squads/ad2be733/2021-2022/Sevilla-Stats', attrs = {\"id\":\"stats_standard_12\"})[0]\n",
        "df.head()\n",
        "\n"
      ]
    },
    {
      "cell_type": "code",
      "execution_count": null,
      "metadata": {
        "colab": {
          "background_save": true
        },
        "id": "sGk94_wh9YFv"
      },
      "outputs": [],
      "source": [
        "df.columns = ['_'.join(col).strip() for col in df.columns.values]\n",
        "\n"
      ]
    },
    {
      "cell_type": "code",
      "execution_count": null,
      "metadata": {
        "colab": {
          "background_save": true
        },
        "collapsed": true,
        "id": "OsG_zjXx9YFv"
      },
      "outputs": [],
      "source": [
        "df.head()\n",
        "\n"
      ]
    },
    {
      "cell_type": "code",
      "execution_count": null,
      "metadata": {
        "colab": {
          "background_save": true
        },
        "id": "X_NZ06IN9YFv"
      },
      "outputs": [],
      "source": [
        "df.to_csv('Sevilla2021-2022.csv')"
      ]
    },
    {
      "cell_type": "markdown",
      "metadata": {
        "id": "Zfm4QaiZ9DKq"
      },
      "source": [
        "2022-2023"
      ]
    },
    {
      "cell_type": "code",
      "execution_count": null,
      "metadata": {
        "colab": {
          "background_save": true
        },
        "collapsed": true,
        "id": "X7I1ZaP09cU7"
      },
      "outputs": [],
      "source": [
        "import pandas as pd6\n",
        "df = pd.read_html('https://fbref.com/en/squads/ad2be733/2022-2023/Sevilla-Stats', attrs = {\"id\":\"stats_standard_12\"})[0]\n",
        "df.head()\n",
        "\n"
      ]
    },
    {
      "cell_type": "code",
      "execution_count": null,
      "metadata": {
        "colab": {
          "background_save": true
        },
        "id": "6tWzHW2Q9cU8"
      },
      "outputs": [],
      "source": [
        "df.columns = ['_'.join(col).strip() for col in df.columns.values]\n",
        "\n"
      ]
    },
    {
      "cell_type": "code",
      "execution_count": null,
      "metadata": {
        "colab": {
          "background_save": true
        },
        "collapsed": true,
        "id": "Qcrw0Vs99cU8"
      },
      "outputs": [],
      "source": [
        "df.head()\n",
        "\n"
      ]
    },
    {
      "cell_type": "code",
      "execution_count": null,
      "metadata": {
        "colab": {
          "background_save": true
        },
        "id": "Rh51FcIy9cU8"
      },
      "outputs": [],
      "source": [
        "df.to_csv('Sevilla2022-2023.csv')"
      ]
    },
    {
      "cell_type": "markdown",
      "metadata": {
        "id": "_ORKmNyQ9DhC"
      },
      "source": [
        "2023-2024"
      ]
    },
    {
      "cell_type": "code",
      "execution_count": null,
      "metadata": {
        "colab": {
          "background_save": true
        },
        "collapsed": true,
        "id": "hc9ktm979gsi"
      },
      "outputs": [],
      "source": [
        "import pandas as pd6\n",
        "df = pd.read_html('https://fbref.com/en/squads/ad2be733/2023-2024/Sevilla-Stats', attrs = {\"id\":\"stats_standard_12\"})[0]\n",
        "df.head()\n",
        "\n"
      ]
    },
    {
      "cell_type": "code",
      "execution_count": null,
      "metadata": {
        "colab": {
          "background_save": true
        },
        "id": "2Yj2TuIX9gsj"
      },
      "outputs": [],
      "source": [
        "df.columns = ['_'.join(col).strip() for col in df.columns.values]\n",
        "\n"
      ]
    },
    {
      "cell_type": "code",
      "execution_count": null,
      "metadata": {
        "colab": {
          "background_save": true
        },
        "collapsed": true,
        "id": "kX1oBwzU9gsj"
      },
      "outputs": [],
      "source": [
        "df.head()\n",
        "\n"
      ]
    },
    {
      "cell_type": "code",
      "execution_count": null,
      "metadata": {
        "colab": {
          "background_save": true
        },
        "id": "7l2B0Dru9gsj"
      },
      "outputs": [],
      "source": [
        "df.to_csv('Sevilla2023-2024.csv')"
      ]
    }
  ],
  "metadata": {
    "colab": {
      "provenance": []
    },
    "kernelspec": {
      "display_name": "base",
      "language": "python",
      "name": "python3"
    },
    "language_info": {
      "codemirror_mode": {
        "name": "ipython",
        "version": 3
      },
      "file_extension": ".py",
      "mimetype": "text/x-python",
      "name": "python",
      "nbconvert_exporter": "python",
      "pygments_lexer": "ipython3",
      "version": "3.11.5"
    }
  },
  "nbformat": 4,
  "nbformat_minor": 0
}
